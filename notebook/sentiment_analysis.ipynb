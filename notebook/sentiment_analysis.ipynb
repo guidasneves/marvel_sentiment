{
 "cells": [
  {
   "cell_type": "markdown",
   "id": "795660cf-592c-4e3e-8e3e-9ba131fea9a1",
   "metadata": {},
   "source": [
    "# Marvel Charts Sentiment Analysis"
   ]
  },
  {
   "cell_type": "code",
   "execution_count": null,
   "id": "1e0868b2-3bc4-4bd1-bd19-a2184f39df1b",
   "metadata": {},
   "outputs": [],
   "source": []
  }
 ],
 "metadata": {
  "kernelspec": {
   "display_name": "Python 3 (ipykernel)",
   "language": "python",
   "name": "python3"
  },
  "language_info": {
   "codemirror_mode": {
    "name": "ipython",
    "version": 3
   },
   "file_extension": ".py",
   "mimetype": "text/x-python",
   "name": "python",
   "nbconvert_exporter": "python",
   "pygments_lexer": "ipython3",
   "version": "3.11.5"
  }
 },
 "nbformat": 4,
 "nbformat_minor": 5
}
