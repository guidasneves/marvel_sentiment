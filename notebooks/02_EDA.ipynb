{
 "cells": [
  {
   "cell_type": "markdown",
   "id": "6c1f92be-1a60-460f-9c6a-af94cbe20555",
   "metadata": {},
   "source": [
    "# Exploratory Analysis Step (Etapa de Análise Exploratória)"
   ]
  },
  {
   "cell_type": "markdown",
   "id": "506aa47c-aa0c-4fc5-b345-7d45175f2249",
   "metadata": {},
   "source": [
    "## Table of Contents\n",
    "* [Packages](#1)\n",
    "* [Preprocessing](#2)"
   ]
  },
  {
   "cell_type": "code",
   "execution_count": null,
   "id": "84f9a8fe-9363-4854-858b-ea6e4edf69b7",
   "metadata": {},
   "outputs": [],
   "source": []
  },
  {
   "cell_type": "code",
   "execution_count": null,
   "id": "c5adb745-b30d-449a-a563-03cc5bdfa338",
   "metadata": {},
   "outputs": [],
   "source": []
  },
  {
   "cell_type": "code",
   "execution_count": null,
   "id": "b57d4d97-1ded-4da1-bd9d-45bc5715c463",
   "metadata": {},
   "outputs": [],
   "source": [
    "comics_data = pd.read_csv('../data/raw/comics_corpus.csv').drop_duplicates()\n",
    "char_data = pd.read_csv('../data/raw/char_corpus.csv')\n",
    "comics_data.head()"
   ]
  }
 ],
 "metadata": {
  "kernelspec": {
   "display_name": "Python 3 (ipykernel)",
   "language": "python",
   "name": "python3"
  },
  "language_info": {
   "codemirror_mode": {
    "name": "ipython",
    "version": 3
   },
   "file_extension": ".py",
   "mimetype": "text/x-python",
   "name": "python",
   "nbconvert_exporter": "python",
   "pygments_lexer": "ipython3",
   "version": "3.11.5"
  }
 },
 "nbformat": 4,
 "nbformat_minor": 5
}
