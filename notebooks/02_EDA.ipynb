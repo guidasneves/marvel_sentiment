{
 "cells": [
  {
   "cell_type": "markdown",
   "id": "e67342dd-a365-4c2e-aa59-cea263c4b7c9",
   "metadata": {},
   "source": [
    "# Exploratory Analysis Step (Etapa da Análise Exploratória)\n",
    "## Table of Contents\n",
    "* [Packages](#1)\n",
    "* [Exploratory Data Analysis](#2)"
   ]
  },
  {
   "cell_type": "markdown",
   "id": "6dc26b4a-4224-407a-b257-e05666b82ed7",
   "metadata": {},
   "source": [
    "<a name=\"1\"></a>\n",
    "## Packages (Pacotes)\n",
    "**[EN-US]**\n",
    "\n",
    "Packages used in the system.\n",
    "* [pandas](https://pandas.pydata.org/): is the main package for data manipulation;\n",
    "* [numpy](www.numpy.org): is the main package for scientific computing;\n",
    "* [random](https://docs.python.org/pt-br/3/library/random.html): pseudorandom number generator for various distributions;\n",
    "* [scikit-learn](https://scikit-learn.org/stable/): open source machine learning library;\n",
    "* [matplotlib](http://matplotlib.org): is a library to plot graphs;\n",
    "* [seaborn](https://seaborn.pydata.org/): data visualization library based on matplotlib;\n",
    "* [plotly](https://plotly.com/python/): makes interactive, publication-quality graphs.\n",
    "\n",
    "**[PT-BR]**\n",
    "\n",
    "Pacotes utilizados no sistema.\n",
    "* [pandas](https://pandas.pydata.org/): é o principal pacote para manipulação de dados;\n",
    "* [numpy](www.numpy.org): é o principal pacote para computação científica;\n",
    "* [random](https://docs.python.org/pt-br/3/library/random.html): gerador de números pseudoaleatórios para várias distribuições;\n",
    "* [scikit-learn](https://scikit-learn.org/stable/): biblioteca open-source de machine learning;\n",
    "* [matplotlib](http://matplotlib.org): é uma biblioteca para plotar gráficos;\n",
    "* [seaborn](https://seaborn.pydata.org/): biblioteca de visualização de dados baseada em matplotlib;\n",
    "* [plotly](https://plotly.com/python/): cria gráficos interativos com qualidade de publicação."
   ]
  },
  {
   "cell_type": "code",
   "execution_count": null,
   "id": "a7d46063-3af4-4010-940c-933eb8c8c90e",
   "metadata": {},
   "outputs": [],
   "source": []
  },
  {
   "cell_type": "code",
   "execution_count": null,
   "id": "30365c5b-dfbd-45e3-be6d-7ca0ffbe0958",
   "metadata": {},
   "outputs": [],
   "source": []
  },
  {
   "cell_type": "code",
   "execution_count": null,
   "id": "fa882084-b9c4-4d1d-b68e-258f55c3d63a",
   "metadata": {},
   "outputs": [],
   "source": []
  },
  {
   "cell_type": "markdown",
   "id": "f4d1e6f0-cac2-4876-b6c4-31860ff6de5c",
   "metadata": {},
   "source": [
    "<a name=\"2\"></a>\n",
    "## Exploratory Data Analysis (EDA)\n",
    "**[EN-US]**\n",
    "\n",
    "Exploratory Data Analysis.\n",
    "\n",
    "Input $X$ features:\n",
    "* `id`: the Spotify ID for the track.\n",
    "* `name`: the name of the track.\n",
    "* `artists`: the principal artist who performed the track.\n",
    "* `duration_ms`: the track length in milliseconds.\n",
    "* `popularity`: a measure from 0 to 100 describing the popularity of the track.\n",
    "* `danceability`: a measure from 0.0 to 1.0 describing how suitable a track is for dancing.\n",
    "* `energy`: a measure from 0.0 to 1.0 and represents a perceptual measure of intensity and activity.\n",
    "* `key`: the key the track is in. E.g. 0 = C, 1 = C♯/D♭, 2 = D, and so on. If no key was detected, the value is -1.\n",
    "* `loudness`: the overall loudness of a track in decibels (dB). Values typically range between -60 and 0 db.\n",
    "* `mode`: indicates the modality, major \"1\" or minor \"0\", of a track.\n",
    "* `speechiness`: a measure from 0.0 to 1.0 detecting the presence of spoken words in a track.\n",
    "* `acousticness`: a confidence measure from 0.0 to 1.0 of whether the track is acoustic.\n",
    "* `instrumentalness`: a measure from 0.0 to 1.0 predicting whether a track contains no vocals.\n",
    "* `liveness`: a mearure from 0.0 to 1.0 detecting the presence of an audience in the recording.\n",
    "* `valence`: a measure from 0.0 to 1.0 describing the musical positiveness conveyed by a track.\n",
    "* `tempo`: the overall estimated tempo of a track in beats per minute (BPM).\n",
    "* `y`: the track's label, 1 for good and 0 otherwise.\n",
    "* `duration_min`: the track length in minutes.\n",
    "\n",
    "**[PT-BR]**\n",
    "\n",
    "Análise de Dados Exploratória.\n",
    "\n",
    "Variáveis do input $X$:\n",
    "* `id`: o ID do Spotify para a track.\n",
    "* `name`: o nome da track.\n",
    "* `artists`: o artista principal que executaram a faixa.\n",
    "* `duration_ms`: a duração da track em milissegundos.\n",
    "* `popularity`: uma medida de 0 a 100 que descreve a popularidade da track.\n",
    "* `danceability`: uma medida de 0,0 a 1,0 que descreve o quão adequada uma track é para dançar.\n",
    "* `energy`: uma medida de 0,0 a 1,0 e representa uma medida perceptiva de intensidade e atividade.\n",
    "* `key`: o tom em que a track está. 0 = C, 1 = C♯/D♭, 2 = D e assim por diante. Se nenhuma chave for detectada, o valor será -1.\n",
    "* `loudness`: o volume geral de uma track em decibéis (dB). Os valores normalmente variam entre -60 e 0 db.\n",
    "* `mode`: indica a modalidade, maior \"1\" ou menor \"0\", de uma track.\n",
    "* `speechiness`: medida de 0,0 a 1,0 que detecta a presença de palavras faladas em uma track.\n",
    "* `acousticness`: uma medida de confiança de 0,0 a 1,0 para saber se a track é acústica.\n",
    "* `instrumentalness`: uma medida de 0,0 a 1,0 que prevê se uma track não contém vocais.\n",
    "* `liveness`: detecta a presença de um público na gravação.\n",
    "* `valence`: uma medida de 0,0 a 1,0 que descreve a positividade musical transmitida por uma track.\n",
    "* `tempo`: o andamento geral estimado de uma track em batidas por minuto (BPM).\n",
    "* `y`: o label da track, 1 para bom e 0 para caso contrário.\n",
    "* `duration_min`: a duração da track em minutos."
   ]
  },
  {
   "cell_type": "code",
   "execution_count": null,
   "id": "9d76540d-3932-4ba3-ad6a-a168ef9c917e",
   "metadata": {},
   "outputs": [],
   "source": []
  },
  {
   "cell_type": "code",
   "execution_count": null,
   "id": "2cb7194b-cb21-49ba-a070-3f4807ab4a56",
   "metadata": {},
   "outputs": [],
   "source": []
  }
 ],
 "metadata": {
  "kernelspec": {
   "display_name": "Python 3 (ipykernel)",
   "language": "python",
   "name": "python3"
  },
  "language_info": {
   "codemirror_mode": {
    "name": "ipython",
    "version": 3
   },
   "file_extension": ".py",
   "mimetype": "text/x-python",
   "name": "python",
   "nbconvert_exporter": "python",
   "pygments_lexer": "ipython3",
   "version": "3.11.5"
  }
 },
 "nbformat": 4,
 "nbformat_minor": 5
}
