{
 "cells": [
  {
   "cell_type": "markdown",
   "id": "debe9ec0-89c7-46ab-9203-b210db8004cc",
   "metadata": {},
   "source": [
    "# Preprocessing Step (Etapa de Pré-Processamento)"
   ]
  },
  {
   "cell_type": "markdown",
   "id": "aa711489-0961-4df2-af39-63583899af35",
   "metadata": {},
   "source": [
    "## Table of Contents\n",
    "* [Packages](#1)\n",
    "* [Preprocessing](#2)"
   ]
  },
  {
   "cell_type": "markdown",
   "id": "3f0ec45f-ccfd-46c9-913b-601cf152c125",
   "metadata": {},
   "source": [
    "<a name=\"1\"></a>\n",
    "## Packages (Pacotes)"
   ]
  },
  {
   "cell_type": "code",
   "execution_count": 293,
   "id": "375d1727-909a-4086-ba17-f377c05c39ee",
   "metadata": {},
   "outputs": [],
   "source": [
    "import pandas as pd\n",
    "import string\n",
    "import re\n",
    "from nltk.corpus import stopwords\n",
    "from nltk.stem import PorterStemmer\n",
    "import tensorflow as tf\n",
    "from tensorflow.keras.layers import TextVectorization"
   ]
  },
  {
   "cell_type": "markdown",
   "id": "992e78a5-0cc8-4cd6-b8f2-4373e4035379",
   "metadata": {},
   "source": [
    "<a name=\"2\"></a>\n",
    "## Preprocessing (Pré-processamento)"
   ]
  },
  {
   "cell_type": "code",
   "execution_count": 277,
   "id": "e195ab81-50b4-4e6a-8eb9-0baaa1431269",
   "metadata": {},
   "outputs": [
    {
     "data": {
      "text/html": [
       "<div>\n",
       "<style scoped>\n",
       "    .dataframe tbody tr th:only-of-type {\n",
       "        vertical-align: middle;\n",
       "    }\n",
       "\n",
       "    .dataframe tbody tr th {\n",
       "        vertical-align: top;\n",
       "    }\n",
       "\n",
       "    .dataframe thead th {\n",
       "        text-align: right;\n",
       "    }\n",
       "</style>\n",
       "<table border=\"1\" class=\"dataframe\">\n",
       "  <thead>\n",
       "    <tr style=\"text-align: right;\">\n",
       "      <th></th>\n",
       "      <th>id</th>\n",
       "      <th>title</th>\n",
       "      <th>description</th>\n",
       "      <th>y</th>\n",
       "    </tr>\n",
       "  </thead>\n",
       "  <tbody>\n",
       "    <tr>\n",
       "      <th>0</th>\n",
       "      <td>94799</td>\n",
       "      <td>Demon Days: Mariko (2021) #1 (Variant)</td>\n",
       "      <td>IN THE SHADOW OF KIRISAKI MOUNTAIN?A SECRET HI...</td>\n",
       "      <td>suspense</td>\n",
       "    </tr>\n",
       "    <tr>\n",
       "      <th>1</th>\n",
       "      <td>93339</td>\n",
       "      <td>The Mighty Valkyries (2021) #3</td>\n",
       "      <td>CHILDREN OF THE AFTERLIFE! While Kraven the Hu...</td>\n",
       "      <td>action</td>\n",
       "    </tr>\n",
       "    <tr>\n",
       "      <th>2</th>\n",
       "      <td>94884</td>\n",
       "      <td>The Mighty Valkyries (2021) #3 (Variant)</td>\n",
       "      <td>CHILDREN OF THE AFTERLIFE! While Kraven the Hu...</td>\n",
       "      <td>action</td>\n",
       "    </tr>\n",
       "    <tr>\n",
       "      <th>3</th>\n",
       "      <td>93350</td>\n",
       "      <td>X-Corp (2021) #2</td>\n",
       "      <td>A SHARK IN THE WATER! After X-CORP’s shocking ...</td>\n",
       "      <td>suspense</td>\n",
       "    </tr>\n",
       "    <tr>\n",
       "      <th>4</th>\n",
       "      <td>94896</td>\n",
       "      <td>X-Corp (2021) #2 (Variant)</td>\n",
       "      <td>A SHARK IN THE WATER! After X-CORP?s shocking ...</td>\n",
       "      <td>suspense</td>\n",
       "    </tr>\n",
       "  </tbody>\n",
       "</table>\n",
       "</div>"
      ],
      "text/plain": [
       "      id                                     title  \\\n",
       "0  94799    Demon Days: Mariko (2021) #1 (Variant)   \n",
       "1  93339            The Mighty Valkyries (2021) #3   \n",
       "2  94884  The Mighty Valkyries (2021) #3 (Variant)   \n",
       "3  93350                          X-Corp (2021) #2   \n",
       "4  94896                X-Corp (2021) #2 (Variant)   \n",
       "\n",
       "                                         description         y  \n",
       "0  IN THE SHADOW OF KIRISAKI MOUNTAIN?A SECRET HI...  suspense  \n",
       "1  CHILDREN OF THE AFTERLIFE! While Kraven the Hu...    action  \n",
       "2  CHILDREN OF THE AFTERLIFE! While Kraven the Hu...    action  \n",
       "3  A SHARK IN THE WATER! After X-CORP’s shocking ...  suspense  \n",
       "4  A SHARK IN THE WATER! After X-CORP?s shocking ...  suspense  "
      ]
     },
     "execution_count": 277,
     "metadata": {},
     "output_type": "execute_result"
    }
   ],
   "source": [
    "comics_data = pd.read_csv('../data/raw/comics_corpus.csv').drop_duplicates()\n",
    "char_data = pd.read_csv('../data/raw/char_corpus.csv')\n",
    "comics_data.head()"
   ]
  },
  {
   "cell_type": "code",
   "execution_count": 279,
   "id": "219f6abb-4ee6-4ea5-a507-36fbb96b95f0",
   "metadata": {},
   "outputs": [
    {
     "data": {
      "text/html": [
       "<div>\n",
       "<style scoped>\n",
       "    .dataframe tbody tr th:only-of-type {\n",
       "        vertical-align: middle;\n",
       "    }\n",
       "\n",
       "    .dataframe tbody tr th {\n",
       "        vertical-align: top;\n",
       "    }\n",
       "\n",
       "    .dataframe thead th {\n",
       "        text-align: right;\n",
       "    }\n",
       "</style>\n",
       "<table border=\"1\" class=\"dataframe\">\n",
       "  <thead>\n",
       "    <tr style=\"text-align: right;\">\n",
       "      <th></th>\n",
       "      <th>id</th>\n",
       "      <th>name</th>\n",
       "      <th>description</th>\n",
       "      <th>y</th>\n",
       "    </tr>\n",
       "  </thead>\n",
       "  <tbody>\n",
       "    <tr>\n",
       "      <th>0</th>\n",
       "      <td>1017100</td>\n",
       "      <td>A-Bomb (HAS)</td>\n",
       "      <td>Rick Jones has been Hulk's best bud since day ...</td>\n",
       "      <td>action</td>\n",
       "    </tr>\n",
       "    <tr>\n",
       "      <th>1</th>\n",
       "      <td>1009144</td>\n",
       "      <td>A.I.M.</td>\n",
       "      <td>AIM is a terrorist organization bent on destro...</td>\n",
       "      <td>action</td>\n",
       "    </tr>\n",
       "    <tr>\n",
       "      <th>2</th>\n",
       "      <td>1009146</td>\n",
       "      <td>Abomination (Emil Blonsky)</td>\n",
       "      <td>Formerly known as Emil Blonsky, a spy of Sovie...</td>\n",
       "      <td>action</td>\n",
       "    </tr>\n",
       "    <tr>\n",
       "      <th>3</th>\n",
       "      <td>1010354</td>\n",
       "      <td>Adam Warlock</td>\n",
       "      <td>Adam Warlock is an artificially created human ...</td>\n",
       "      <td>action</td>\n",
       "    </tr>\n",
       "    <tr>\n",
       "      <th>4</th>\n",
       "      <td>1011031</td>\n",
       "      <td>Agent X (Nijo)</td>\n",
       "      <td>Originally a partner of the mind-altering assa...</td>\n",
       "      <td>action</td>\n",
       "    </tr>\n",
       "  </tbody>\n",
       "</table>\n",
       "</div>"
      ],
      "text/plain": [
       "        id                        name  \\\n",
       "0  1017100                A-Bomb (HAS)   \n",
       "1  1009144                      A.I.M.   \n",
       "2  1009146  Abomination (Emil Blonsky)   \n",
       "3  1010354                Adam Warlock   \n",
       "4  1011031              Agent X (Nijo)   \n",
       "\n",
       "                                         description       y  \n",
       "0  Rick Jones has been Hulk's best bud since day ...  action  \n",
       "1  AIM is a terrorist organization bent on destro...  action  \n",
       "2  Formerly known as Emil Blonsky, a spy of Sovie...  action  \n",
       "3  Adam Warlock is an artificially created human ...  action  \n",
       "4  Originally a partner of the mind-altering assa...  action  "
      ]
     },
     "execution_count": 279,
     "metadata": {},
     "output_type": "execute_result"
    }
   ],
   "source": [
    "char_data.head()"
   ]
  },
  {
   "cell_type": "code",
   "execution_count": 281,
   "id": "89baef00-62ad-4ad3-8dd1-f2f4d87e24bd",
   "metadata": {},
   "outputs": [
    {
     "data": {
      "text/plain": [
       "np.int64(12945)"
      ]
     },
     "execution_count": 281,
     "metadata": {},
     "output_type": "execute_result"
    }
   ],
   "source": [
    "comics_data['description'].str.contains('!').sum()"
   ]
  },
  {
   "cell_type": "code",
   "execution_count": 283,
   "id": "18056891-e855-4c79-b132-fa93075d407e",
   "metadata": {},
   "outputs": [
    {
     "data": {
      "text/plain": [
       "1503"
      ]
     },
     "execution_count": 283,
     "metadata": {},
     "output_type": "execute_result"
    }
   ],
   "source": [
    "MAX_TOKENS = None\n",
    "MAX_LEN = max([len(text) for text in comics_data['description']])\n",
    "MAX_LEN"
   ]
  },
  {
   "cell_type": "code",
   "execution_count": 287,
   "id": "b77d4bad-b50d-4b99-9f83-7d224c12203a",
   "metadata": {},
   "outputs": [],
   "source": [
    "def rnn_preprocess(corpus):\n",
    "    \"\"\"\n",
    "    \n",
    "    \"\"\"\n",
    "    stem = PorterStemmer()\n",
    "    stopwords_en = stopwords.words('english')\n",
    "    \n",
    "    corpus = re.sub(f'r[{re.escape(string.punctuation)}]', '.', corpus)\n",
    "    corpus = re.sub(f'r{stopwords_en}', '', corpus)\n",
    "    corpus = re.sub(r'\\s+', ' ', corpus)\n",
    "    corpus = re.sub(r'\\W+', ' ', corpus).strip().lower()   \n",
    "    \n",
    "    return corpus"
   ]
  },
  {
   "cell_type": "code",
   "execution_count": 289,
   "id": "0f973371-11ae-4a48-9569-d32c4411dce2",
   "metadata": {},
   "outputs": [
    {
     "data": {
      "text/plain": [
       "0        in the shadow of kirisaki mountain a secret hi...\n",
       "1        children of the afterlife while kven the hunte...\n",
       "2        children of the afterlife while kven the hunte...\n",
       "3        a shark in the water aftex corp s shocking deb...\n",
       "4        a shark in the water aftex corp s shocking deb...\n",
       "                               ...                        \n",
       "16922    a collection of epic stoes featung human toh i...\n",
       "16923    d jack castle investigates a sees of mue and c...\n",
       "16924    a histoc comic sees dating all the way back to...\n",
       "16925    the one that staed it all featung the fit appe...\n",
       "16926    concluding this chilling chapter of stephen ki...\n",
       "Name: description, Length: 16927, dtype: object"
      ]
     },
     "execution_count": 289,
     "metadata": {},
     "output_type": "execute_result"
    }
   ],
   "source": [
    "comics_data['description'].map(rnn_preprocess)"
   ]
  },
  {
   "cell_type": "code",
   "execution_count": 182,
   "id": "671c01ed-8e03-4bd0-a7fe-2a160c8153b9",
   "metadata": {},
   "outputs": [
    {
     "data": {
      "text/html": [
       "<div>\n",
       "<style scoped>\n",
       "    .dataframe tbody tr th:only-of-type {\n",
       "        vertical-align: middle;\n",
       "    }\n",
       "\n",
       "    .dataframe tbody tr th {\n",
       "        vertical-align: top;\n",
       "    }\n",
       "\n",
       "    .dataframe thead th {\n",
       "        text-align: right;\n",
       "    }\n",
       "</style>\n",
       "<table border=\"1\" class=\"dataframe\">\n",
       "  <thead>\n",
       "    <tr style=\"text-align: right;\">\n",
       "      <th></th>\n",
       "      <th>id</th>\n",
       "      <th>title</th>\n",
       "      <th>description</th>\n",
       "      <th>y</th>\n",
       "    </tr>\n",
       "  </thead>\n",
       "  <tbody>\n",
       "    <tr>\n",
       "      <th>0</th>\n",
       "      <td>94799</td>\n",
       "      <td>Demon Days: Mariko (2021) #1 (Variant)</td>\n",
       "      <td>in the shadow of kirisaki mountain a secret hi...</td>\n",
       "      <td>suspense</td>\n",
       "    </tr>\n",
       "    <tr>\n",
       "      <th>1</th>\n",
       "      <td>93339</td>\n",
       "      <td>The Mighty Valkyries (2021) #3</td>\n",
       "      <td>children of the afterlife while kraven the hun...</td>\n",
       "      <td>action</td>\n",
       "    </tr>\n",
       "    <tr>\n",
       "      <th>2</th>\n",
       "      <td>94884</td>\n",
       "      <td>The Mighty Valkyries (2021) #3 (Variant)</td>\n",
       "      <td>children of the afterlife while kraven the hun...</td>\n",
       "      <td>action</td>\n",
       "    </tr>\n",
       "    <tr>\n",
       "      <th>3</th>\n",
       "      <td>93350</td>\n",
       "      <td>X-Corp (2021) #2</td>\n",
       "      <td>a shark in the water after x corp s shocking d...</td>\n",
       "      <td>suspense</td>\n",
       "    </tr>\n",
       "    <tr>\n",
       "      <th>4</th>\n",
       "      <td>94896</td>\n",
       "      <td>X-Corp (2021) #2 (Variant)</td>\n",
       "      <td>a shark in the water after x corp s shocking d...</td>\n",
       "      <td>suspense</td>\n",
       "    </tr>\n",
       "  </tbody>\n",
       "</table>\n",
       "</div>"
      ],
      "text/plain": [
       "      id                                     title  \\\n",
       "0  94799    Demon Days: Mariko (2021) #1 (Variant)   \n",
       "1  93339            The Mighty Valkyries (2021) #3   \n",
       "2  94884  The Mighty Valkyries (2021) #3 (Variant)   \n",
       "3  93350                          X-Corp (2021) #2   \n",
       "4  94896                X-Corp (2021) #2 (Variant)   \n",
       "\n",
       "                                         description         y  \n",
       "0  in the shadow of kirisaki mountain a secret hi...  suspense  \n",
       "1  children of the afterlife while kraven the hun...    action  \n",
       "2  children of the afterlife while kraven the hun...    action  \n",
       "3  a shark in the water after x corp s shocking d...  suspense  \n",
       "4  a shark in the water after x corp s shocking d...  suspense  "
      ]
     },
     "execution_count": 182,
     "metadata": {},
     "output_type": "execute_result"
    }
   ],
   "source": [
    "comics_data['description'] = comics_data['description'].map(rnn_preprocess)\n",
    "comics_data.head()"
   ]
  },
  {
   "cell_type": "code",
   "execution_count": 80,
   "id": "8c9a8b5c-2895-4c5d-b4f5-582854115fb0",
   "metadata": {},
   "outputs": [
    {
     "data": {
      "text/plain": [
       "np.int64(0)"
      ]
     },
     "execution_count": 80,
     "metadata": {},
     "output_type": "execute_result"
    }
   ],
   "source": [
    "comics_data['description'].str.contains('!').sum()"
   ]
  },
  {
   "cell_type": "code",
   "execution_count": 212,
   "id": "1ac3aa51-7bdb-4b84-8b9a-bde634a2b6b0",
   "metadata": {},
   "outputs": [],
   "source": [
    "def rnn_vectorization(corpus, max_tokens=None):\n",
    "    \"\"\"\n",
    "    \n",
    "    \"\"\"\n",
    "    sentence_vec = TextVectorization(\n",
    "        standardize='lower_and_strip_punctuation',\n",
    "        max_tokens=max_tokens,\n",
    "        ragged=True\n",
    "    )\n",
    "    sentence_vec.adapt(corpus)\n",
    "    vocabulary = sentence_vec.get_vocabulary(include_special_tokens=True)\n",
    "\n",
    "    return sentence_vec, vocabulary"
   ]
  },
  {
   "cell_type": "code",
   "execution_count": 256,
   "id": "4cd23d50-369d-488b-9376-c900c09a591c",
   "metadata": {},
   "outputs": [
    {
     "data": {
      "text/plain": [
       "23337"
      ]
     },
     "execution_count": 256,
     "metadata": {},
     "output_type": "execute_result"
    }
   ],
   "source": [
    "sentence_vec, vocabulary = rnn_vectorization(comics_data['description'], max_tokens=None)\n",
    "len(vocabulary)"
   ]
  },
  {
   "cell_type": "code",
   "execution_count": 216,
   "id": "cb06d7e5-0c0e-42ea-9f13-1d0fd9d4e89f",
   "metadata": {
    "scrolled": true
   },
   "outputs": [],
   "source": [
    "X_vec = sentence_vec(comics_data['description'])"
   ]
  },
  {
   "cell_type": "code",
   "execution_count": 244,
   "id": "2b921283-aa99-4281-8926-5562c7de06c0",
   "metadata": {},
   "outputs": [],
   "source": [
    "def padding(corpus, maxlen=None, shuffle_buffer_size=1000, prefetch_buffer_size=tf.data.AUTOTUNE, batch_size=128):\n",
    "    \"\"\"\n",
    "    \n",
    "    \"\"\"\n",
    "    padded_corpus = tf.keras.utils.pad_sequences(\n",
    "        corpus.numpy(),\n",
    "        maxlen=maxlen,\n",
    "        truncating='post',\n",
    "        padding='post'\n",
    "    )\n",
    "    padded_corpus = (\n",
    "        tf.data.Dataset.from_tensor_slices(padded_corpus)\n",
    "        .cache()\n",
    "        .shuffle(shuffle_buffer_size)\n",
    "        .prefetch(prefetch_buffer_size)\n",
    "        .batch(batch_size)\n",
    "    )\n",
    "\n",
    "    return padded_corpus"
   ]
  },
  {
   "cell_type": "code",
   "execution_count": 260,
   "id": "346fd7df-5a9a-4fd3-93e2-8a85e88c51e0",
   "metadata": {},
   "outputs": [],
   "source": [
    "X_pad = padding(X_vec, maxlen=MAX_LEN)"
   ]
  },
  {
   "cell_type": "code",
   "execution_count": 262,
   "id": "0d65e78b-44fd-4220-9a93-03eb0067103d",
   "metadata": {},
   "outputs": [
    {
     "data": {
      "text/plain": [
       "<tf.Tensor: shape=(128, 1468), dtype=int32, numpy=\n",
       "array([[   2, 9203,    3, ...,    0,    0,    0],\n",
       "       [ 426,    2,  190, ...,    0,    0,    0],\n",
       "       [  85,  108,   75, ...,    0,    0,    0],\n",
       "       ...,\n",
       "       [  13,   84,   32, ...,    0,    0,    0],\n",
       "       [ 171,  187,   22, ...,    0,    0,    0],\n",
       "       [1560,   40,    3, ...,    0,    0,    0]], dtype=int32)>"
      ]
     },
     "execution_count": 262,
     "metadata": {},
     "output_type": "execute_result"
    }
   ],
   "source": [
    "next(iter(X_pad.take(1)))"
   ]
  },
  {
   "cell_type": "code",
   "execution_count": 264,
   "id": "8e7ccc7a-4de1-45a2-ac84-b6d06c401ad8",
   "metadata": {},
   "outputs": [
    {
     "data": {
      "text/plain": [
       "(<tf.Tensor: shape=(128, 1468), dtype=int32, numpy=\n",
       " array([[ 810,   52,  352, ...,    0,    0,    0],\n",
       "        [1742,    2, 7480, ...,    0,    0,    0],\n",
       "        [  24,   21,  881, ...,    0,    0,    0],\n",
       "        ...,\n",
       "        [   6,   21,  101, ...,    0,    0,    0],\n",
       "        [  23,  717,    7, ...,    0,    0,    0],\n",
       "        [  20,   80,   33, ...,    0,    0,    0]], dtype=int32)>,\n",
       " <tf.Tensor: shape=(), dtype=string, numpy=b'suspense'>)"
      ]
     },
     "execution_count": 264,
     "metadata": {},
     "output_type": "execute_result"
    }
   ],
   "source": [
    "y_dataset = tf.data.Dataset.from_tensor_slices(comics_data['y'])\n",
    "comics_dataset = tf.data.Dataset.zip(X_pad, y_dataset)\n",
    "next(iter(comics_dataset.take(1)))"
   ]
  },
  {
   "cell_type": "code",
   "execution_count": 82,
   "id": "61015b4e-cfc4-4c92-b2cb-0675e5125239",
   "metadata": {},
   "outputs": [
    {
     "name": "stdout",
     "output_type": "stream",
     "text": [
      "Punctuations: !\"#$%&'()*+,-./:;<=>?@[\\]^_`{|}~\n",
      "\n",
      "Stopwords: ['i', 'me', 'my', 'myself', 'we', 'our', 'ours', 'ourselves', 'you', \"you're\", \"you've\", \"you'll\", \"you'd\", 'your', 'yours', 'yourself', 'yourselves', 'he', 'him', 'his', 'himself', 'she', \"she's\", 'her', 'hers', 'herself', 'it', \"it's\", 'its', 'itself', 'they', 'them', 'their', 'theirs', 'themselves', 'what', 'which', 'who', 'whom', 'this', 'that', \"that'll\", 'these', 'those', 'am', 'is', 'are', 'was', 'were', 'be', 'been', 'being', 'have', 'has', 'had', 'having', 'do', 'does', 'did', 'doing', 'a', 'an', 'the', 'and', 'but', 'if', 'or', 'because', 'as', 'until', 'while', 'of', 'at', 'by', 'for', 'with', 'about', 'against', 'between', 'into', 'through', 'during', 'before', 'after', 'above', 'below', 'to', 'from', 'up', 'down', 'in', 'out', 'on', 'off', 'over', 'under', 'again', 'further', 'then', 'once', 'here', 'there', 'when', 'where', 'why', 'how', 'all', 'any', 'both', 'each', 'few', 'more', 'most', 'other', 'some', 'such', 'no', 'nor', 'not', 'only', 'own', 'same', 'so', 'than', 'too', 'very', 's', 't', 'can', 'will', 'just', 'don', \"don't\", 'should', \"should've\", 'now', 'd', 'll', 'm', 'o', 're', 've', 'y', 'ain', 'aren', \"aren't\", 'couldn', \"couldn't\", 'didn', \"didn't\", 'doesn', \"doesn't\", 'hadn', \"hadn't\", 'hasn', \"hasn't\", 'haven', \"haven't\", 'isn', \"isn't\", 'ma', 'mightn', \"mightn't\", 'mustn', \"mustn't\", 'needn', \"needn't\", 'shan', \"shan't\", 'shouldn', \"shouldn't\", 'wasn', \"wasn't\", 'weren', \"weren't\", 'won', \"won't\", 'wouldn', \"wouldn't\"]\n"
     ]
    }
   ],
   "source": [
    "punctuations = string.punctuation\n",
    "stopwords_en = stopwords.words('english')\n",
    "print(f'Punctuations: {punctuations}\\n\\nStopwords: {stopwords_en}')"
   ]
  },
  {
   "cell_type": "code",
   "execution_count": 110,
   "id": "e9470e44-34f9-4354-8316-301fb21fdb67",
   "metadata": {},
   "outputs": [
    {
     "data": {
      "text/plain": [
       "\"i\\\\ me\\\\ my\\\\ myself\\\\ we\\\\ our\\\\ ours\\\\ ourselves\\\\ you\\\\ you're\\\\ you've\\\\ you'll\\\\ you'd\\\\ your\\\\ yours\\\\ yourself\\\\ yourselves\\\\ he\\\\ him\\\\ his\\\\ himself\\\\ she\\\\ she's\\\\ her\\\\ hers\\\\ herself\\\\ it\\\\ it's\\\\ its\\\\ itself\\\\ they\\\\ them\\\\ their\\\\ theirs\\\\ themselves\\\\ what\\\\ which\\\\ who\\\\ whom\\\\ this\\\\ that\\\\ that'll\\\\ these\\\\ those\\\\ am\\\\ is\\\\ are\\\\ was\\\\ were\\\\ be\\\\ been\\\\ being\\\\ have\\\\ has\\\\ had\\\\ having\\\\ do\\\\ does\\\\ did\\\\ doing\\\\ a\\\\ an\\\\ the\\\\ and\\\\ but\\\\ if\\\\ or\\\\ because\\\\ as\\\\ until\\\\ while\\\\ of\\\\ at\\\\ by\\\\ for\\\\ with\\\\ about\\\\ against\\\\ between\\\\ into\\\\ through\\\\ during\\\\ before\\\\ after\\\\ above\\\\ below\\\\ to\\\\ from\\\\ up\\\\ down\\\\ in\\\\ out\\\\ on\\\\ off\\\\ over\\\\ under\\\\ again\\\\ further\\\\ then\\\\ once\\\\ here\\\\ there\\\\ when\\\\ where\\\\ why\\\\ how\\\\ all\\\\ any\\\\ both\\\\ each\\\\ few\\\\ more\\\\ most\\\\ other\\\\ some\\\\ such\\\\ no\\\\ nor\\\\ not\\\\ only\\\\ own\\\\ same\\\\ so\\\\ than\\\\ too\\\\ very\\\\ s\\\\ t\\\\ can\\\\ will\\\\ just\\\\ don\\\\ don't\\\\ should\\\\ should've\\\\ now\\\\ d\\\\ ll\\\\ m\\\\ o\\\\ re\\\\ ve\\\\ y\\\\ ain\\\\ aren\\\\ aren't\\\\ couldn\\\\ couldn't\\\\ didn\\\\ didn't\\\\ doesn\\\\ doesn't\\\\ hadn\\\\ hadn't\\\\ hasn\\\\ hasn't\\\\ haven\\\\ haven't\\\\ isn\\\\ isn't\\\\ ma\\\\ mightn\\\\ mightn't\\\\ mustn\\\\ mustn't\\\\ needn\\\\ needn't\\\\ shan\\\\ shan't\\\\ shouldn\\\\ shouldn't\\\\ wasn\\\\ wasn't\\\\ weren\\\\ weren't\\\\ won\\\\ won't\\\\ wouldn\\\\ wouldn't\""
      ]
     },
     "execution_count": 110,
     "metadata": {},
     "output_type": "execute_result"
    }
   ],
   "source": [
    "re.escape(' '.join(stopwords_en))"
   ]
  },
  {
   "cell_type": "code",
   "execution_count": null,
   "id": "f4b06814-1e4c-41f5-9bc8-26d200acb62f",
   "metadata": {},
   "outputs": [],
   "source": []
  }
 ],
 "metadata": {
  "kernelspec": {
   "display_name": "Python 3 (ipykernel)",
   "language": "python",
   "name": "python3"
  },
  "language_info": {
   "codemirror_mode": {
    "name": "ipython",
    "version": 3
   },
   "file_extension": ".py",
   "mimetype": "text/x-python",
   "name": "python",
   "nbconvert_exporter": "python",
   "pygments_lexer": "ipython3",
   "version": "3.11.5"
  }
 },
 "nbformat": 4,
 "nbformat_minor": 5
}
