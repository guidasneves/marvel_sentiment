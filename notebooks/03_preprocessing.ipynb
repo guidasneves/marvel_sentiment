{
 "cells": [
  {
   "cell_type": "markdown",
   "id": "debe9ec0-89c7-46ab-9203-b210db8004cc",
   "metadata": {},
   "source": [
    "# Preprocessing Step (Etapa de Pré-Processamento)"
   ]
  },
  {
   "cell_type": "markdown",
   "id": "aa711489-0961-4df2-af39-63583899af35",
   "metadata": {},
   "source": [
    "## Table of Contents\n",
    "* [Packages](#1)\n",
    "* [Preprocessing Utility Function](#2)\n",
    "* [Preprocessing](#3)"
   ]
  },
  {
   "cell_type": "markdown",
   "id": "3f0ec45f-ccfd-46c9-913b-601cf152c125",
   "metadata": {},
   "source": [
    "<a name=\"1\"></a>\n",
    "## Packages (Pacotes)"
   ]
  },
  {
   "cell_type": "code",
   "execution_count": 9,
   "id": "375d1727-909a-4086-ba17-f377c05c39ee",
   "metadata": {},
   "outputs": [],
   "source": [
    "import os\n",
    "\n",
    "import pandas as pd\n",
    "import string\n",
    "import re"
   ]
  },
  {
   "cell_type": "markdown",
   "id": "4b55f8ed-eb08-430c-b078-0751e39d3c7f",
   "metadata": {},
   "source": [
    "<a name=\"2\"></a>\n",
    "## Preprocessing Utility Functions (Funções Utilitárias de Pré-processamento)"
   ]
  },
  {
   "cell_type": "code",
   "execution_count": 12,
   "id": "1ac3aa51-7bdb-4b84-8b9a-bde634a2b6b0",
   "metadata": {},
   "outputs": [],
   "source": [
    "def preprocess(dataset):\n",
    "    \"\"\"\n",
    "    \n",
    "    \"\"\"\n",
    "    dataset = dataset['description'].str.lower()\n",
    "    "
   ]
  },
  {
   "cell_type": "markdown",
   "id": "992e78a5-0cc8-4cd6-b8f2-4373e4035379",
   "metadata": {},
   "source": [
    "<a name=\"3\"></a>\n",
    "## Preprocessing (Pré-processamento)"
   ]
  },
  {
   "cell_type": "code",
   "execution_count": 15,
   "id": "e195ab81-50b4-4e6a-8eb9-0baaa1431269",
   "metadata": {},
   "outputs": [
    {
     "data": {
      "text/html": [
       "<div>\n",
       "<style scoped>\n",
       "    .dataframe tbody tr th:only-of-type {\n",
       "        vertical-align: middle;\n",
       "    }\n",
       "\n",
       "    .dataframe tbody tr th {\n",
       "        vertical-align: top;\n",
       "    }\n",
       "\n",
       "    .dataframe thead th {\n",
       "        text-align: right;\n",
       "    }\n",
       "</style>\n",
       "<table border=\"1\" class=\"dataframe\">\n",
       "  <thead>\n",
       "    <tr style=\"text-align: right;\">\n",
       "      <th></th>\n",
       "      <th>id</th>\n",
       "      <th>title</th>\n",
       "      <th>description</th>\n",
       "    </tr>\n",
       "  </thead>\n",
       "  <tbody>\n",
       "    <tr>\n",
       "      <th>0</th>\n",
       "      <td>94799</td>\n",
       "      <td>Demon Days: Mariko (2021) #1 (Variant)</td>\n",
       "      <td>IN THE SHADOW OF KIRISAKI MOUNTAIN?A SECRET HI...</td>\n",
       "    </tr>\n",
       "    <tr>\n",
       "      <th>1</th>\n",
       "      <td>93339</td>\n",
       "      <td>The Mighty Valkyries (2021) #3</td>\n",
       "      <td>CHILDREN OF THE AFTERLIFE! While Kraven the Hu...</td>\n",
       "    </tr>\n",
       "    <tr>\n",
       "      <th>2</th>\n",
       "      <td>94884</td>\n",
       "      <td>The Mighty Valkyries (2021) #3 (Variant)</td>\n",
       "      <td>CHILDREN OF THE AFTERLIFE! While Kraven the Hu...</td>\n",
       "    </tr>\n",
       "    <tr>\n",
       "      <th>3</th>\n",
       "      <td>93350</td>\n",
       "      <td>X-Corp (2021) #2</td>\n",
       "      <td>A SHARK IN THE WATER! After X-CORP’s shocking ...</td>\n",
       "    </tr>\n",
       "    <tr>\n",
       "      <th>4</th>\n",
       "      <td>94896</td>\n",
       "      <td>X-Corp (2021) #2 (Variant)</td>\n",
       "      <td>A SHARK IN THE WATER! After X-CORP?s shocking ...</td>\n",
       "    </tr>\n",
       "  </tbody>\n",
       "</table>\n",
       "</div>"
      ],
      "text/plain": [
       "      id                                     title  \\\n",
       "0  94799    Demon Days: Mariko (2021) #1 (Variant)   \n",
       "1  93339            The Mighty Valkyries (2021) #3   \n",
       "2  94884  The Mighty Valkyries (2021) #3 (Variant)   \n",
       "3  93350                          X-Corp (2021) #2   \n",
       "4  94896                X-Corp (2021) #2 (Variant)   \n",
       "\n",
       "                                         description  \n",
       "0  IN THE SHADOW OF KIRISAKI MOUNTAIN?A SECRET HI...  \n",
       "1  CHILDREN OF THE AFTERLIFE! While Kraven the Hu...  \n",
       "2  CHILDREN OF THE AFTERLIFE! While Kraven the Hu...  \n",
       "3  A SHARK IN THE WATER! After X-CORP’s shocking ...  \n",
       "4  A SHARK IN THE WATER! After X-CORP?s shocking ...  "
      ]
     },
     "execution_count": 15,
     "metadata": {},
     "output_type": "execute_result"
    }
   ],
   "source": [
    "X_comics = pd.read_csv('../data/raw/comics_corpus.csv').drop_duplicates()\n",
    "X_char = pd.read_csv('../data/raw/char_corpus.csv')\n",
    "X_comics.head()"
   ]
  },
  {
   "cell_type": "code",
   "execution_count": 17,
   "id": "219f6abb-4ee6-4ea5-a507-36fbb96b95f0",
   "metadata": {},
   "outputs": [
    {
     "data": {
      "text/html": [
       "<div>\n",
       "<style scoped>\n",
       "    .dataframe tbody tr th:only-of-type {\n",
       "        vertical-align: middle;\n",
       "    }\n",
       "\n",
       "    .dataframe tbody tr th {\n",
       "        vertical-align: top;\n",
       "    }\n",
       "\n",
       "    .dataframe thead th {\n",
       "        text-align: right;\n",
       "    }\n",
       "</style>\n",
       "<table border=\"1\" class=\"dataframe\">\n",
       "  <thead>\n",
       "    <tr style=\"text-align: right;\">\n",
       "      <th></th>\n",
       "      <th>id</th>\n",
       "      <th>name</th>\n",
       "      <th>description</th>\n",
       "    </tr>\n",
       "  </thead>\n",
       "  <tbody>\n",
       "    <tr>\n",
       "      <th>0</th>\n",
       "      <td>1017100</td>\n",
       "      <td>A-Bomb (HAS)</td>\n",
       "      <td>Rick Jones has been Hulk's best bud since day ...</td>\n",
       "    </tr>\n",
       "    <tr>\n",
       "      <th>1</th>\n",
       "      <td>1009144</td>\n",
       "      <td>A.I.M.</td>\n",
       "      <td>AIM is a terrorist organization bent on destro...</td>\n",
       "    </tr>\n",
       "    <tr>\n",
       "      <th>2</th>\n",
       "      <td>1009146</td>\n",
       "      <td>Abomination (Emil Blonsky)</td>\n",
       "      <td>Formerly known as Emil Blonsky, a spy of Sovie...</td>\n",
       "    </tr>\n",
       "    <tr>\n",
       "      <th>3</th>\n",
       "      <td>1010354</td>\n",
       "      <td>Adam Warlock</td>\n",
       "      <td>Adam Warlock is an artificially created human ...</td>\n",
       "    </tr>\n",
       "    <tr>\n",
       "      <th>4</th>\n",
       "      <td>1011031</td>\n",
       "      <td>Agent X (Nijo)</td>\n",
       "      <td>Originally a partner of the mind-altering assa...</td>\n",
       "    </tr>\n",
       "  </tbody>\n",
       "</table>\n",
       "</div>"
      ],
      "text/plain": [
       "        id                        name  \\\n",
       "0  1017100                A-Bomb (HAS)   \n",
       "1  1009144                      A.I.M.   \n",
       "2  1009146  Abomination (Emil Blonsky)   \n",
       "3  1010354                Adam Warlock   \n",
       "4  1011031              Agent X (Nijo)   \n",
       "\n",
       "                                         description  \n",
       "0  Rick Jones has been Hulk's best bud since day ...  \n",
       "1  AIM is a terrorist organization bent on destro...  \n",
       "2  Formerly known as Emil Blonsky, a spy of Sovie...  \n",
       "3  Adam Warlock is an artificially created human ...  \n",
       "4  Originally a partner of the mind-altering assa...  "
      ]
     },
     "execution_count": 17,
     "metadata": {},
     "output_type": "execute_result"
    }
   ],
   "source": [
    "X_char.head()"
   ]
  },
  {
   "cell_type": "code",
   "execution_count": 19,
   "id": "25552717-fd10-4d0a-9b71-89b1829fd0ac",
   "metadata": {},
   "outputs": [
    {
     "data": {
      "text/plain": [
       "(17733, 3)"
      ]
     },
     "execution_count": 19,
     "metadata": {},
     "output_type": "execute_result"
    }
   ],
   "source": [
    "X_comics.shape"
   ]
  },
  {
   "cell_type": "code",
   "execution_count": 21,
   "id": "671c01ed-8e03-4bd0-a7fe-2a160c8153b9",
   "metadata": {},
   "outputs": [
    {
     "data": {
      "text/plain": [
       "0        in the shadow of kirisaki mountain?a secret hi...\n",
       "1        children of the afterlife! while kraven the hu...\n",
       "2        children of the afterlife! while kraven the hu...\n",
       "3        a shark in the water! after x-corp’s shocking ...\n",
       "4        a shark in the water! after x-corp?s shocking ...\n",
       "                               ...                        \n",
       "17728    a collection of epic stories featuring human t...\n",
       "17729    dr. jack castle investigates a series of murde...\n",
       "17730    a historic comic series dating all the way bac...\n",
       "17731    the one that started it all, featuring the fir...\n",
       "17732    concluding this chilling chapter of stephen ki...\n",
       "Name: description, Length: 17733, dtype: object"
      ]
     },
     "execution_count": 21,
     "metadata": {},
     "output_type": "execute_result"
    }
   ],
   "source": [
    "X_comics['description'].str.lower()"
   ]
  },
  {
   "cell_type": "markdown",
   "id": "482b26b4-2099-4e60-be3b-d5caaee4420b",
   "metadata": {},
   "source": []
  },
  {
   "cell_type": "code",
   "execution_count": 241,
   "id": "61015b4e-cfc4-4c92-b2cb-0675e5125239",
   "metadata": {},
   "outputs": [
    {
     "name": "stdout",
     "output_type": "stream",
     "text": [
      "Punctuations: !\"#$%&'()*+,-./:;<=>?@[\\]^_`{|}~\n"
     ]
    }
   ],
   "source": [
    "punctuations = string.punctuation\n",
    "print(f'Punctuations: {punctuations}')"
   ]
  },
  {
   "cell_type": "code",
   "execution_count": null,
   "id": "5e038a46-9805-4611-836e-530b0a83dd9a",
   "metadata": {},
   "outputs": [],
   "source": []
  }
 ],
 "metadata": {
  "kernelspec": {
   "display_name": "Python 3 (ipykernel)",
   "language": "python",
   "name": "python3"
  },
  "language_info": {
   "codemirror_mode": {
    "name": "ipython",
    "version": 3
   },
   "file_extension": ".py",
   "mimetype": "text/x-python",
   "name": "python",
   "nbconvert_exporter": "python",
   "pygments_lexer": "ipython3",
   "version": "3.11.5"
  }
 },
 "nbformat": 4,
 "nbformat_minor": 5
}
