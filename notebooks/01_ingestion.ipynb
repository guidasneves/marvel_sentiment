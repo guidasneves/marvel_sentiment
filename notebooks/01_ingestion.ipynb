{
 "cells": [
  {
   "cell_type": "markdown",
   "id": "795660cf-592c-4e3e-8e3e-9ba131fea9a1",
   "metadata": {},
   "source": [
    "# Marvel Charts Sentiment Analysis"
   ]
  },
  {
   "cell_type": "markdown",
   "id": "bf7e9705-821e-49ad-a64b-724fd5a8b4c4",
   "metadata": {},
   "source": [
    "## Table of Contents\n",
    "* [Packages](#1)\n",
    "* [Ingestion Functions](#2)\n",
    "* [Environment Variables](#3)"
   ]
  },
  {
   "cell_type": "markdown",
   "id": "b91e510b-cc33-4b0a-8dba-b0ecd264ab09",
   "metadata": {},
   "source": [
    "<a name=\"1\"></a>\n",
    "## Packages (Pacotes)"
   ]
  },
  {
   "cell_type": "code",
   "execution_count": 27,
   "id": "1e0868b2-3bc4-4bd1-bd19-a2184f39df1b",
   "metadata": {},
   "outputs": [],
   "source": [
    "import os\n",
    "from requests import get\n",
    "from requests.utils import default_headers\n",
    "from hashlib import md5\n",
    "from time import time\n",
    "from dotenv import load_dotenv\n",
    "load_dotenv()\n",
    "\n",
    "import pandas as pd"
   ]
  },
  {
   "cell_type": "markdown",
   "id": "75b0d96a-2cee-4074-a8e1-9e7e3c45a9b9",
   "metadata": {},
   "source": [
    "<a name=\"2\"></a>\n",
    "## Ingestion Utility Functions (Funçõs Utilitárias de Ingestão)"
   ]
  },
  {
   "cell_type": "code",
   "execution_count": 30,
   "id": "82cbbde7-2299-4ac7-8899-493adc443f77",
   "metadata": {},
   "outputs": [],
   "source": [
    "def get_characters(TS, PUBLIC_KEY, PRIVATE_KEY, limit=None, offset=None):\n",
    "    \"\"\"\n",
    "    \n",
    "    \"\"\"\n",
    "    url = 'http://gateway.marvel.com'\n",
    "    hash_ = md5((TS + PRIVATE_KEY + PUBLIC_KEY).encode('utf-8')).hexdigest()\n",
    "    endpoint = '/v1/public/characters'\n",
    "\n",
    "    params = {\n",
    "        'name': None,\n",
    "        'ts': TS,\n",
    "        'apikey': PUBLIC_KEY,\n",
    "        'hash': hash_,\n",
    "        'limit': limit,\n",
    "        'offset': offset\n",
    "    }\n",
    "\n",
    "    response = get(url + endpoint, params=params)\n",
    "\n",
    "    if response.status_code == 200:\n",
    "        character_json = response.json()['data']['results']\n",
    "        names = []\n",
    "        ids = []\n",
    "        for i in range(len(character_json)):\n",
    "            names.append(character_json[i]['name'])\n",
    "            ids.append(character_json[i]['id'])\n",
    "            \n",
    "        return names, ids\n",
    "    else:\n",
    "        print('Acesso não autorizado!')"
   ]
  },
  {
   "cell_type": "code",
   "execution_count": 32,
   "id": "ccd54c6f-8538-465a-86ce-8ce11b4ef8e2",
   "metadata": {},
   "outputs": [],
   "source": [
    "class MarvelIngestion():\n",
    "    \"\"\"\n",
    "    \n",
    "    \"\"\"\n",
    "    def __init__(\n",
    "        self,\n",
    "        public_key,\n",
    "        private_key,\n",
    "        url='http://gateway.marvel.com/v1/public/',\n",
    "        limit=100,\n",
    "    ):\n",
    "        \"\"\"\n",
    "        \n",
    "        \"\"\"\n",
    "        super(MarvelIngestion, self).__init__()\n",
    "\n",
    "        self.public_key = public_key\n",
    "        self.private_key = private_key\n",
    "        \n",
    "        self.url = url\n",
    "        self.limit = 100\n",
    "\n",
    "    def get_params(self, offset, format_=None):\n",
    "        \"\"\"\n",
    "        \n",
    "        \"\"\"\n",
    "        ts = str(time())\n",
    "        hash_ = md5(\n",
    "            (\n",
    "                ts + self.private_key + self.public_key\n",
    "            ).encode('utf-8')\n",
    "        ).hexdigest()\n",
    "        params = {\n",
    "                'ts': ts,\n",
    "                'apikey': self.public_key,\n",
    "                'hash': hash_,\n",
    "                'limit': self.limit,\n",
    "                'offset': offset,\n",
    "                'format': format_\n",
    "            }\n",
    "\n",
    "        return params\n",
    "    \n",
    "    def __call__(self, endpoint, format_=None, offset=0):\n",
    "        \"\"\"\n",
    "        \n",
    "        \"\"\"\n",
    "        examples = []\n",
    "        \n",
    "        endpoint = endpoint.lower().strip()\n",
    "        key = 'name' if endpoint == 'characters' else 'title'\n",
    "        params = self.get_params(offset=offset, format_=format_)\n",
    "        headers = default_headers()\n",
    "        response = get(self.url + endpoint, params=params, headers=headers).json()\n",
    "\n",
    "        total = response['data']['total']\n",
    "                \n",
    "        for page in range(offset, 2001, self.limit):\n",
    "            print(page, end='\\r')\n",
    "            results = response['data']['results']\n",
    "            \n",
    "            for i in range(len(results)):                    \n",
    "                example = [\n",
    "                    results[i]['id'],\n",
    "                    results[i][key],\n",
    "                    results[i]['description']\n",
    "                ]\n",
    "                examples.append(example)\n",
    "                    \n",
    "            params = self.get_params(offset=page + self.limit, format_=format_)\n",
    "            response = get(self.url + endpoint, params=params, headers=headers).json()\n",
    "\n",
    "        features = ['id', 'title', 'description']\n",
    "        df = pd.DataFrame(examples, columns=features)\n",
    "\n",
    "        return df"
   ]
  },
  {
   "cell_type": "markdown",
   "id": "c76f6d54-ee3b-4eec-8114-b1d943ee4183",
   "metadata": {},
   "source": [
    "<a name=\"3\"></a>\n",
    "## Environment Variables (Variáveis de Ambiente)"
   ]
  },
  {
   "cell_type": "code",
   "execution_count": 35,
   "id": "f333179a-a5c7-4911-beb5-6650554ede46",
   "metadata": {},
   "outputs": [],
   "source": [
    "PUBLIC_KEY = str(os.environ['MARVEL_PUBLIC_KEY'])\n",
    "PRIVATE_KEY = str(os.environ['MARVEL_PRIVATE_KEY'])"
   ]
  },
  {
   "cell_type": "code",
   "execution_count": null,
   "id": "684bee22-0c2a-4701-8334-bef63ab92166",
   "metadata": {},
   "outputs": [
    {
     "name": "stdout",
     "output_type": "stream",
     "text": [
      "800\r"
     ]
    }
   ],
   "source": [
    "ingestion = MarvelIngestion(PUBLIC_KEY, PRIVATE_KEY)\n",
    "df = ingestion(endpoint='comics', format_='comic')\n",
    "print(df.shape)\n",
    "df.head()"
   ]
  },
  {
   "cell_type": "code",
   "execution_count": null,
   "id": "ad913cbd-6dc4-4d4b-a8b3-fe54c4650535",
   "metadata": {},
   "outputs": [
    {
     "name": "stdout",
     "output_type": "stream",
     "text": [
      "[121147, 'Dazzler (2024) #2 (Variant)', \"London Calling! DAZZLER and her entourage travel across the pond for the next stop on her world tour. But when a live studio session goes dangerously awry, it's time for DOMINO and STRONG GUY to shine! But who is the mystery villain out to cancel Dazzler's performances - permanently?! Featuring action, heartbreak and another original set of song lyrics!\"]uffed out!\"] of WEB-WEAVER 2099!\"]om a magical future!\"]piracy of their own.\"]eir own.\"]ere.\"]ke Doom continue on his ascendant path –whatever that might hold – or strike against him while they still can! As a fateful choice is made, you won’t believe the shocking ending! It’s one of the all-time great Marvel comic books, boldly re-presented in its original form, ads and all!'] form, ads and all!\"]ing creative team!\"]and all! Reprinting AMAZING SPIDER-MAN (1963) #262.\"]ING SPIDER-MAN (1963) #263.\"]g X-readers' heads. This is one for the pull list!\"]ll list!\"]in to welcome their new Emperor with open arms, clamoring for One World Under Doom? Marvel's biggest and most shocking event ever begins right here.\"]\r"
     ]
    }
   ],
   "source": [
    "examples = []\n",
    "\n",
    "offset = 0\n",
    "limit = 100\n",
    "endpoint = 'comics'\n",
    "url = 'http://gateway.marvel.com/v1/public/'\n",
    "TS = str(time())\n",
    "hash_ = md5(\n",
    "    (\n",
    "        TS + PRIVATE_KEY + PUBLIC_KEY\n",
    "    ).encode('utf-8')\n",
    ").hexdigest()\n",
    "params = {\n",
    "    'ts': TS,\n",
    "    'apikey': PUBLIC_KEY,\n",
    "    'hash': hash_,\n",
    "    'limit': limit,\n",
    "    'offset': offset,\n",
    "    'format': 'comic'\n",
    "}\n",
    "headers = default_headers()\n",
    "response = get(url + endpoint, params=params, headers=headers).json()\n",
    "\n",
    "total = response['data']['total']\n",
    "        \n",
    "for page in range(offset, total + 1, limit):\n",
    "    results = response['data']['results']\n",
    "    \n",
    "    for i in range(len(results)):  \n",
    "        example = [\n",
    "            results[i]['id'],\n",
    "            results[i]['title'],\n",
    "            results[i]['description']\n",
    "        ]\n",
    "        examples.append(example)\n",
    "\n",
    "    TS = str(time())\n",
    "    hash_ = md5(\n",
    "        (\n",
    "            TS + PRIVATE_KEY + PUBLIC_KEY\n",
    "        ).encode('utf-8')\n",
    "    ).hexdigest()\n",
    "    params = {\n",
    "        'ts': TS,\n",
    "        'apikey': PUBLIC_KEY,\n",
    "        'hash': hash_,\n",
    "        'limit': 100,\n",
    "        'offset': page + limit,\n",
    "        'format': 'comic'\n",
    "    }\n",
    "    response = get(url + endpoint, params=params, headers=headers).json()\n",
    "\n",
    "features = ['id', 'title', 'description']\n",
    "df = pd.DataFrame(examples, columns=features)"
   ]
  },
  {
   "cell_type": "markdown",
   "id": "0bf2801e-9b01-4b40-a8ff-05268c3ff883",
   "metadata": {},
   "source": [
    "# Testes"
   ]
  },
  {
   "cell_type": "code",
   "execution_count": 455,
   "id": "1718d9a9-7b9a-4a03-bf97-23412437c49f",
   "metadata": {},
   "outputs": [],
   "source": [
    "hash_ = md5((TS + PRIVATE_KEY + PUBLIC_KEY).encode('utf-8')).hexdigest()\n",
    "params = {\n",
    "                'ts': TS,\n",
    "                'apikey': PUBLIC_KEY,\n",
    "                'hash': hash_,\n",
    "                'limit': 100,\n",
    "                'format': 'comic'\n",
    "            }\n",
    "url='http://gateway.marvel.com/v1/public/'\n",
    "\n",
    "\n",
    "response = get(url + 'comics', params=params, headers=default_headers()).json()"
   ]
  },
  {
   "cell_type": "code",
   "execution_count": 495,
   "id": "adab7f94-6dbe-4b13-8b67-a86aaf80d6d1",
   "metadata": {},
   "outputs": [
    {
     "data": {
      "text/plain": [
       "['']"
      ]
     },
     "execution_count": 495,
     "metadata": {},
     "output_type": "execute_result"
    }
   ],
   "source": [
    "desc = response['data']['results'][1]['description']\n",
    "desc_l = []\n",
    "desc_l.append(desc)\n",
    "desc_l"
   ]
  },
  {
   "cell_type": "code",
   "execution_count": 262,
   "id": "59052b52-96fe-4887-8290-b7865531bd6a",
   "metadata": {},
   "outputs": [],
   "source": [
    "if comics[5] and len(comics[5]):\n",
    "    print(a)"
   ]
  }
 ],
 "metadata": {
  "kernelspec": {
   "display_name": "Python 3 (ipykernel)",
   "language": "python",
   "name": "python3"
  },
  "language_info": {
   "codemirror_mode": {
    "name": "ipython",
    "version": 3
   },
   "file_extension": ".py",
   "mimetype": "text/x-python",
   "name": "python",
   "nbconvert_exporter": "python",
   "pygments_lexer": "ipython3",
   "version": "3.11.5"
  }
 },
 "nbformat": 4,
 "nbformat_minor": 5
}
