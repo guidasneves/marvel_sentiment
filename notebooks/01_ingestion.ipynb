{
 "cells": [
  {
   "cell_type": "markdown",
   "id": "795660cf-592c-4e3e-8e3e-9ba131fea9a1",
   "metadata": {},
   "source": [
    "# Ingestion Step (Etapa de Ingestão)"
   ]
  },
  {
   "cell_type": "markdown",
   "id": "bf7e9705-821e-49ad-a64b-724fd5a8b4c4",
   "metadata": {},
   "source": [
    "## Table of Contents\n",
    "* [Packages](#1)\n",
    "* [Ingestion Utility Functions](#2)\n",
    "* [Environment Variables](#3)\n",
    "* [Extract, Transform and Load (ETL)](#4)\n",
    "    * [Data Extract](#4.1)\n",
    "    * [Data Transform](#4.2)\n",
    "    * [Data Load](#4.3)"
   ]
  },
  {
   "cell_type": "markdown",
   "id": "b91e510b-cc33-4b0a-8dba-b0ecd264ab09",
   "metadata": {},
   "source": [
    "<a name=\"1\"></a>\n",
    "## Packages (Pacotes)\n",
    "**[EN-US]**\n",
    "\n",
    "Packages used in the system.\n",
    "* [os](https://docs.python.org/3/library/os.html): built-in module, provides a portable way of using operating system dependent functionality;\n",
    "* [requests](https://pypi.org/project/requests/): is a simple HTTP library, for making HTTP requests;\n",
    "* [haslib](https://docs.python.org/3/library/hashlib.html): implements a common interface to many different secure hash and message digest algorithms;\n",
    "* [time](https://docs.python.org/3/library/time.html): provides various time-related functions;\n",
    "* [dotenv](https://pypi.org/project/python-dotenv/): reads key-value pairs from a .env file and can set them as environment variables;\n",
    "* [pandas](https://pandas.pydata.org/): is the main package for data manipulation;\n",
    "\n",
    "**[PT-BR]**\n",
    "\n",
    "Pacotes utilizados no sistema.\n",
    "* [os](https://docs.python.org/3/library/os.html): módulo integrado, fornece uma maneira portátil de usar funcionalidades dependentes do sistema operacional;\n",
    "* [requests](https://pypi.org/project/requests/): é uma biblioteca HTTP simples, para fazer solicitações HTTP;\n",
    "* [haslib](https://docs.python.org/3/library/hashlib.html): implementa uma interface comum para muitos algoritmos diferentes de hash seguro e resumo de mensagens;\n",
    "* [time](https://docs.python.org/3/library/time.html): fornece várias funções relacionadas ao tempo;\n",
    "* [dotenv](https://pypi.org/project/python-dotenv/): lê pares de chave-valor de um arquivo .env e pode defini-los como variáveis de ambiente;\n",
    "* [pandas](https://pandas.pydata.org/): é o principal pacote para manipulação de dados;"
   ]
  },
  {
   "cell_type": "code",
   "execution_count": 40,
   "id": "1e0868b2-3bc4-4bd1-bd19-a2184f39df1b",
   "metadata": {},
   "outputs": [],
   "source": [
    "import os\n",
    "from requests import get\n",
    "from hashlib import md5\n",
    "from time import time\n",
    "from dotenv import load_dotenv\n",
    "load_dotenv()\n",
    "\n",
    "import pandas as pd"
   ]
  },
  {
   "cell_type": "markdown",
   "id": "75b0d96a-2cee-4074-a8e1-9e7e3c45a9b9",
   "metadata": {},
   "source": [
    "<a name=\"2\"></a>\n",
    "## Ingestion Utility Function (Função Utilitária de Ingestão)\n",
    "**[EN-US]**\n",
    "\n",
    "\n",
    "\n",
    "**[PT-BR]**\n",
    "\n",
    "\n"
   ]
  },
  {
   "cell_type": "code",
   "execution_count": 43,
   "id": "ccd54c6f-8538-465a-86ce-8ce11b4ef8e2",
   "metadata": {},
   "outputs": [],
   "source": [
    "class MarvelIngestion():\n",
    "    \"\"\"\n",
    "    \n",
    "    \"\"\"\n",
    "    def __init__(\n",
    "        self,\n",
    "        public_key,\n",
    "        private_key,\n",
    "        url='http://gateway.marvel.com/v1/public/',\n",
    "        limit=100,\n",
    "    ):\n",
    "        \"\"\"\n",
    "        \n",
    "        \"\"\"\n",
    "        super(MarvelIngestion, self).__init__()\n",
    "\n",
    "        self.public_key = public_key\n",
    "        self.private_key = private_key\n",
    "        \n",
    "        self.url = url\n",
    "        self.limit = limit\n",
    "        self.headers = {\n",
    "            'Accept-Encoding': '*',\n",
    "            'Accpet': '*/*',\n",
    "            'Connection': 'keep-alive'\n",
    "        }\n",
    "\n",
    "    def get_params(self, offset, format_=None):\n",
    "        \"\"\"\n",
    "        \n",
    "        \"\"\"\n",
    "        ts = str(time())\n",
    "        hash_ = md5(\n",
    "            (\n",
    "                ts + self.private_key + self.public_key\n",
    "            ).encode('utf-8')\n",
    "        ).hexdigest()\n",
    "        params = {\n",
    "                'ts': ts,\n",
    "                'apikey': self.public_key,\n",
    "                'hash': hash_,\n",
    "                'limit': self.limit,\n",
    "                'offset': offset,\n",
    "                'format': format_\n",
    "            }\n",
    "        \n",
    "        return params\n",
    "    \n",
    "    def __call__(self, endpoint, offset=0, format_=None, retries=5):\n",
    "        \"\"\"\n",
    "        \n",
    "        \"\"\"        \n",
    "        key = 'name' if endpoint == 'characters' else 'title'\n",
    "        params = self.get_params(offset=offset, format_=format_)\n",
    "        examples = []\n",
    "        \n",
    "        response = get(self.url + endpoint, params=params, headers=self.headers).json()\n",
    "        total = response['data']['total']\n",
    "                \n",
    "        for page in range(offset, offset + total, self.limit):\n",
    "            if retries > 0:\n",
    "                try:\n",
    "                    results = response['data']['results']\n",
    "                    \n",
    "                    for i in range(len(results)):\n",
    "                        description = results[i]['description']\n",
    "                        example = [\n",
    "                                results[i]['id'],\n",
    "                                results[i][key],\n",
    "                                description\n",
    "                            ]\n",
    "                        if example not in examples and description and len(description) > 4:\n",
    "                            examples.append(example)\n",
    "                            \n",
    "                    params = self.get_params(offset=page + self.limit, format_=format_)\n",
    "                    response = get(self.url + endpoint, params=params, headers=self.headers).json()\n",
    "                \n",
    "                except:\n",
    "                    retries -= 1\n",
    "\n",
    "        features = ['id', key, 'description']\n",
    "        df = pd.DataFrame(examples, columns=features)\n",
    "\n",
    "        return df"
   ]
  },
  {
   "cell_type": "markdown",
   "id": "c76f6d54-ee3b-4eec-8114-b1d943ee4183",
   "metadata": {},
   "source": [
    "<a name=\"3\"></a>\n",
    "## Environment Variables (Variáveis de Ambiente)\n",
    "**[EN-US]**\n",
    "\n",
    "Setting the environment variables:\n",
    "* `MARVEL_PUBLIC_KEY`: the public key for connecting and using the APIs.\n",
    "* `MARVEL_PRIVATE_KEY`: the private key for connecting and using the APIs.\n",
    "\n",
    "**[PT-BR]**\n",
    "\n",
    "Definindo as variáveis de ambiente:\n",
    "* `MARVEL_PUBLIC_KEY`: a public key para conexão e uso das APIs.\n",
    "* `MARVEL_PRIVATE_KEY`: a private key para conexão e uso das APIs."
   ]
  },
  {
   "cell_type": "code",
   "execution_count": 77,
   "id": "f333179a-a5c7-4911-beb5-6650554ede46",
   "metadata": {},
   "outputs": [],
   "source": [
    "PUBLIC_KEY = str(os.environ['MARVEL_PUBLIC_KEY'])\n",
    "PRIVATE_KEY = str(os.environ['MARVEL_PRIVATE_KEY'])"
   ]
  },
  {
   "cell_type": "markdown",
   "id": "06c58f20-8fb9-4c27-852e-91fef8626f3c",
   "metadata": {},
   "source": [
    "<a name=\"4\"></a>\n",
    "## Extract, Transform and Load (Extração, Transformação e Carregamento)\n",
    "**[EN-US]**\n",
    "\n",
    "ETL (Extract, Transform and Load), requesting authorization from Marvel, extracting data from Marvel characters and comics, transforming this data and loading the data to disk.\n",
    "\n",
    "**[PT-BR]**\n",
    "\n",
    "ETL (Extração, Transformação e Carregamento), requisitando a autorização da Marvel, extraindo os dados dos personagens e dos comics da Marvel, transformando esses dados e carregamando os dados no disco."
   ]
  },
  {
   "cell_type": "markdown",
   "id": "93355ae6-b082-4ebf-9d06-b08bb052b1a3",
   "metadata": {},
   "source": [
    "<a name=\"4.1\"></a>\n",
    "### Data Extract (Extração dos Dados)\n",
    "**[EN-US]**\n",
    "\n",
    "Extracting data from characters and comics and their respective descriptions and then projecting the first 5 examples from the dataset of comics `df_comics` and characters `df_characters`.\n",
    "\n",
    "**[PT-BR]**\n",
    "\n",
    "Extraindo os dados dos personagens e comics e, suas respectivas descrições e, em seguida, projetando os 5 primeiros exemplos do dataset dos comics `df_comics` e dos personagens `df_characters`."
   ]
  },
  {
   "cell_type": "code",
   "execution_count": 79,
   "id": "684bee22-0c2a-4701-8334-bef63ab92166",
   "metadata": {
    "scrolled": true
   },
   "outputs": [],
   "source": [
    "ingestion = MarvelIngestion(PUBLIC_KEY, PRIVATE_KEY)"
   ]
  },
  {
   "cell_type": "code",
   "execution_count": 71,
   "id": "bb04c25f-2675-4943-b81b-565afbba4d09",
   "metadata": {},
   "outputs": [
    {
     "name": "stdout",
     "output_type": "stream",
     "text": [
      "Comics dataset dimension: (18802, 3)\n"
     ]
    },
    {
     "data": {
      "text/html": [
       "<div>\n",
       "<style scoped>\n",
       "    .dataframe tbody tr th:only-of-type {\n",
       "        vertical-align: middle;\n",
       "    }\n",
       "\n",
       "    .dataframe tbody tr th {\n",
       "        vertical-align: top;\n",
       "    }\n",
       "\n",
       "    .dataframe thead th {\n",
       "        text-align: right;\n",
       "    }\n",
       "</style>\n",
       "<table border=\"1\" class=\"dataframe\">\n",
       "  <thead>\n",
       "    <tr style=\"text-align: right;\">\n",
       "      <th></th>\n",
       "      <th>id</th>\n",
       "      <th>title</th>\n",
       "      <th>description</th>\n",
       "    </tr>\n",
       "  </thead>\n",
       "  <tbody>\n",
       "    <tr>\n",
       "      <th>0</th>\n",
       "      <td>94799</td>\n",
       "      <td>Demon Days: Mariko (2021) #1 (Variant)</td>\n",
       "      <td>IN THE SHADOW OF KIRISAKI MOUNTAIN?A SECRET HI...</td>\n",
       "    </tr>\n",
       "    <tr>\n",
       "      <th>1</th>\n",
       "      <td>94801</td>\n",
       "      <td>Demon Days: Mariko (2021) #1 (Variant)</td>\n",
       "      <td>IN THE SHADOW OF KIRISAKI MOUNTAIN?A SECRET HI...</td>\n",
       "    </tr>\n",
       "    <tr>\n",
       "      <th>2</th>\n",
       "      <td>94802</td>\n",
       "      <td>Demon Days: Mariko (2021) #1 (Variant)</td>\n",
       "      <td>IN THE SHADOW OF KIRISAKI MOUNTAIN?A SECRET HI...</td>\n",
       "    </tr>\n",
       "    <tr>\n",
       "      <th>3</th>\n",
       "      <td>94803</td>\n",
       "      <td>Demon Days: Mariko (2021) #1 (Variant)</td>\n",
       "      <td>IN THE SHADOW OF KIRISAKI MOUNTAIN?A SECRET HI...</td>\n",
       "    </tr>\n",
       "    <tr>\n",
       "      <th>4</th>\n",
       "      <td>94804</td>\n",
       "      <td>Demon Days: Mariko (2021) #1 (Variant)</td>\n",
       "      <td>IN THE SHADOW OF KIRISAKI MOUNTAIN?A SECRET HI...</td>\n",
       "    </tr>\n",
       "  </tbody>\n",
       "</table>\n",
       "</div>"
      ],
      "text/plain": [
       "      id                                   title  \\\n",
       "0  94799  Demon Days: Mariko (2021) #1 (Variant)   \n",
       "1  94801  Demon Days: Mariko (2021) #1 (Variant)   \n",
       "2  94802  Demon Days: Mariko (2021) #1 (Variant)   \n",
       "3  94803  Demon Days: Mariko (2021) #1 (Variant)   \n",
       "4  94804  Demon Days: Mariko (2021) #1 (Variant)   \n",
       "\n",
       "                                         description  \n",
       "0  IN THE SHADOW OF KIRISAKI MOUNTAIN?A SECRET HI...  \n",
       "1  IN THE SHADOW OF KIRISAKI MOUNTAIN?A SECRET HI...  \n",
       "2  IN THE SHADOW OF KIRISAKI MOUNTAIN?A SECRET HI...  \n",
       "3  IN THE SHADOW OF KIRISAKI MOUNTAIN?A SECRET HI...  \n",
       "4  IN THE SHADOW OF KIRISAKI MOUNTAIN?A SECRET HI...  "
      ]
     },
     "execution_count": 71,
     "metadata": {},
     "output_type": "execute_result"
    }
   ],
   "source": [
    "df_comics = ingestion(endpoint='comics', format_='comic')\n",
    "print(f'Comics dataset dimension: {df_comics.shape}')\n",
    "df_comics.head()"
   ]
  },
  {
   "cell_type": "code",
   "execution_count": 81,
   "id": "6c7a3426-39e4-4904-8a66-ff5d22bcd6d4",
   "metadata": {},
   "outputs": [
    {
     "name": "stdout",
     "output_type": "stream",
     "text": [
      "Characters dataset dimension: (305, 3)\n"
     ]
    },
    {
     "data": {
      "text/html": [
       "<div>\n",
       "<style scoped>\n",
       "    .dataframe tbody tr th:only-of-type {\n",
       "        vertical-align: middle;\n",
       "    }\n",
       "\n",
       "    .dataframe tbody tr th {\n",
       "        vertical-align: top;\n",
       "    }\n",
       "\n",
       "    .dataframe thead th {\n",
       "        text-align: right;\n",
       "    }\n",
       "</style>\n",
       "<table border=\"1\" class=\"dataframe\">\n",
       "  <thead>\n",
       "    <tr style=\"text-align: right;\">\n",
       "      <th></th>\n",
       "      <th>id</th>\n",
       "      <th>name</th>\n",
       "      <th>description</th>\n",
       "    </tr>\n",
       "  </thead>\n",
       "  <tbody>\n",
       "    <tr>\n",
       "      <th>0</th>\n",
       "      <td>1017100</td>\n",
       "      <td>A-Bomb (HAS)</td>\n",
       "      <td>Rick Jones has been Hulk's best bud since day ...</td>\n",
       "    </tr>\n",
       "    <tr>\n",
       "      <th>1</th>\n",
       "      <td>1009144</td>\n",
       "      <td>A.I.M.</td>\n",
       "      <td>AIM is a terrorist organization bent on destro...</td>\n",
       "    </tr>\n",
       "    <tr>\n",
       "      <th>2</th>\n",
       "      <td>1009146</td>\n",
       "      <td>Abomination (Emil Blonsky)</td>\n",
       "      <td>Formerly known as Emil Blonsky, a spy of Sovie...</td>\n",
       "    </tr>\n",
       "    <tr>\n",
       "      <th>3</th>\n",
       "      <td>1010354</td>\n",
       "      <td>Adam Warlock</td>\n",
       "      <td>Adam Warlock is an artificially created human ...</td>\n",
       "    </tr>\n",
       "    <tr>\n",
       "      <th>4</th>\n",
       "      <td>1011031</td>\n",
       "      <td>Agent X (Nijo)</td>\n",
       "      <td>Originally a partner of the mind-altering assa...</td>\n",
       "    </tr>\n",
       "  </tbody>\n",
       "</table>\n",
       "</div>"
      ],
      "text/plain": [
       "        id                        name  \\\n",
       "0  1017100                A-Bomb (HAS)   \n",
       "1  1009144                      A.I.M.   \n",
       "2  1009146  Abomination (Emil Blonsky)   \n",
       "3  1010354                Adam Warlock   \n",
       "4  1011031              Agent X (Nijo)   \n",
       "\n",
       "                                         description  \n",
       "0  Rick Jones has been Hulk's best bud since day ...  \n",
       "1  AIM is a terrorist organization bent on destro...  \n",
       "2  Formerly known as Emil Blonsky, a spy of Sovie...  \n",
       "3  Adam Warlock is an artificially created human ...  \n",
       "4  Originally a partner of the mind-altering assa...  "
      ]
     },
     "execution_count": 81,
     "metadata": {},
     "output_type": "execute_result"
    }
   ],
   "source": [
    "df_characters = ingestion(endpoint='characters', offset=0)\n",
    "print(f'Characters dataset dimension: {df_characters.shape}')\n",
    "df_characters.head()"
   ]
  },
  {
   "cell_type": "markdown",
   "id": "f8e41d82-5132-40bf-a38b-717c5da101a3",
   "metadata": {},
   "source": [
    "<a name=\"4.2\"></a>\n",
    "### Data Transform (Transformação dos Dados)\n",
    "**[EN-US]**\n",
    "\n",
    "As we can see above, the `title` and `description` features of the comics dataset have duplicate data, regardless of whether their `id` is different. So let's delete these duplicate examples.\n",
    "\n",
    "First, let's transform the `id` feature into the index of this dataset to count duplicate examples between the `title` and `description` features.\n",
    "\n",
    "**[PT-BR]**\n",
    "\n",
    "Como podemos ver acima, as features `title` e `description` do dataset dos comics tem dados duplicados, independente se o seu `id` é diferente. Portanto, vamos excluir esses exemplos duplicados.\n",
    "\n",
    "Primeiro, vamos transformar a feature `id` no índice desse dataset para contar os exemplos duplicados entre as features `title` e `description`."
   ]
  },
  {
   "cell_type": "code",
   "execution_count": 90,
   "id": "10a8504e-3458-421c-87d6-cd9e95ddac87",
   "metadata": {},
   "outputs": [
    {
     "data": {
      "text/html": [
       "<div>\n",
       "<style scoped>\n",
       "    .dataframe tbody tr th:only-of-type {\n",
       "        vertical-align: middle;\n",
       "    }\n",
       "\n",
       "    .dataframe tbody tr th {\n",
       "        vertical-align: top;\n",
       "    }\n",
       "\n",
       "    .dataframe thead th {\n",
       "        text-align: right;\n",
       "    }\n",
       "</style>\n",
       "<table border=\"1\" class=\"dataframe\">\n",
       "  <thead>\n",
       "    <tr style=\"text-align: right;\">\n",
       "      <th></th>\n",
       "      <th>title</th>\n",
       "      <th>description</th>\n",
       "    </tr>\n",
       "    <tr>\n",
       "      <th>id</th>\n",
       "      <th></th>\n",
       "      <th></th>\n",
       "    </tr>\n",
       "  </thead>\n",
       "  <tbody>\n",
       "    <tr>\n",
       "      <th>94799</th>\n",
       "      <td>Demon Days: Mariko (2021) #1 (Variant)</td>\n",
       "      <td>IN THE SHADOW OF KIRISAKI MOUNTAIN?A SECRET HI...</td>\n",
       "    </tr>\n",
       "    <tr>\n",
       "      <th>94801</th>\n",
       "      <td>Demon Days: Mariko (2021) #1 (Variant)</td>\n",
       "      <td>IN THE SHADOW OF KIRISAKI MOUNTAIN?A SECRET HI...</td>\n",
       "    </tr>\n",
       "    <tr>\n",
       "      <th>94802</th>\n",
       "      <td>Demon Days: Mariko (2021) #1 (Variant)</td>\n",
       "      <td>IN THE SHADOW OF KIRISAKI MOUNTAIN?A SECRET HI...</td>\n",
       "    </tr>\n",
       "    <tr>\n",
       "      <th>94803</th>\n",
       "      <td>Demon Days: Mariko (2021) #1 (Variant)</td>\n",
       "      <td>IN THE SHADOW OF KIRISAKI MOUNTAIN?A SECRET HI...</td>\n",
       "    </tr>\n",
       "    <tr>\n",
       "      <th>94804</th>\n",
       "      <td>Demon Days: Mariko (2021) #1 (Variant)</td>\n",
       "      <td>IN THE SHADOW OF KIRISAKI MOUNTAIN?A SECRET HI...</td>\n",
       "    </tr>\n",
       "  </tbody>\n",
       "</table>\n",
       "</div>"
      ],
      "text/plain": [
       "                                        title  \\\n",
       "id                                              \n",
       "94799  Demon Days: Mariko (2021) #1 (Variant)   \n",
       "94801  Demon Days: Mariko (2021) #1 (Variant)   \n",
       "94802  Demon Days: Mariko (2021) #1 (Variant)   \n",
       "94803  Demon Days: Mariko (2021) #1 (Variant)   \n",
       "94804  Demon Days: Mariko (2021) #1 (Variant)   \n",
       "\n",
       "                                             description  \n",
       "id                                                        \n",
       "94799  IN THE SHADOW OF KIRISAKI MOUNTAIN?A SECRET HI...  \n",
       "94801  IN THE SHADOW OF KIRISAKI MOUNTAIN?A SECRET HI...  \n",
       "94802  IN THE SHADOW OF KIRISAKI MOUNTAIN?A SECRET HI...  \n",
       "94803  IN THE SHADOW OF KIRISAKI MOUNTAIN?A SECRET HI...  \n",
       "94804  IN THE SHADOW OF KIRISAKI MOUNTAIN?A SECRET HI...  "
      ]
     },
     "execution_count": 90,
     "metadata": {},
     "output_type": "execute_result"
    }
   ],
   "source": [
    "df_comics = df_comics.set_index('id')\n",
    "df_comics.head()"
   ]
  },
  {
   "cell_type": "markdown",
   "id": "c4e409f3-5eeb-4c7a-a2d6-472d0f5b8aa7",
   "metadata": {},
   "source": [
    "Counting duplicate examples (Contando os exemplos duplicados)."
   ]
  },
  {
   "cell_type": "code",
   "execution_count": 93,
   "id": "1cc32ce5-01d6-472e-a16a-2896e8ffd032",
   "metadata": {},
   "outputs": [
    {
     "name": "stdout",
     "output_type": "stream",
     "text": [
      "Number of duplicate examples: 1069\n"
     ]
    }
   ],
   "source": [
    "print(f'Number of duplicate examples: {df_comics.duplicated().sum()}')"
   ]
  },
  {
   "cell_type": "markdown",
   "id": "6e12d7ce-e23f-4962-bf1d-e1300baf1c08",
   "metadata": {},
   "source": [
    "Dropping duplicate examples (Deletando os exemplos duplicados)."
   ]
  },
  {
   "cell_type": "code",
   "execution_count": 96,
   "id": "43b548a6-365f-4dab-b9a6-e10ac7f46d9d",
   "metadata": {},
   "outputs": [
    {
     "name": "stdout",
     "output_type": "stream",
     "text": [
      "Number of duplicate examples: 0\n"
     ]
    },
    {
     "data": {
      "text/html": [
       "<div>\n",
       "<style scoped>\n",
       "    .dataframe tbody tr th:only-of-type {\n",
       "        vertical-align: middle;\n",
       "    }\n",
       "\n",
       "    .dataframe tbody tr th {\n",
       "        vertical-align: top;\n",
       "    }\n",
       "\n",
       "    .dataframe thead th {\n",
       "        text-align: right;\n",
       "    }\n",
       "</style>\n",
       "<table border=\"1\" class=\"dataframe\">\n",
       "  <thead>\n",
       "    <tr style=\"text-align: right;\">\n",
       "      <th></th>\n",
       "      <th>title</th>\n",
       "      <th>description</th>\n",
       "    </tr>\n",
       "    <tr>\n",
       "      <th>id</th>\n",
       "      <th></th>\n",
       "      <th></th>\n",
       "    </tr>\n",
       "  </thead>\n",
       "  <tbody>\n",
       "    <tr>\n",
       "      <th>94799</th>\n",
       "      <td>Demon Days: Mariko (2021) #1 (Variant)</td>\n",
       "      <td>IN THE SHADOW OF KIRISAKI MOUNTAIN?A SECRET HI...</td>\n",
       "    </tr>\n",
       "    <tr>\n",
       "      <th>93339</th>\n",
       "      <td>The Mighty Valkyries (2021) #3</td>\n",
       "      <td>CHILDREN OF THE AFTERLIFE! While Kraven the Hu...</td>\n",
       "    </tr>\n",
       "    <tr>\n",
       "      <th>94884</th>\n",
       "      <td>The Mighty Valkyries (2021) #3 (Variant)</td>\n",
       "      <td>CHILDREN OF THE AFTERLIFE! While Kraven the Hu...</td>\n",
       "    </tr>\n",
       "    <tr>\n",
       "      <th>93350</th>\n",
       "      <td>X-Corp (2021) #2</td>\n",
       "      <td>A SHARK IN THE WATER! After X-CORP’s shocking ...</td>\n",
       "    </tr>\n",
       "    <tr>\n",
       "      <th>94896</th>\n",
       "      <td>X-Corp (2021) #2 (Variant)</td>\n",
       "      <td>A SHARK IN THE WATER! After X-CORP?s shocking ...</td>\n",
       "    </tr>\n",
       "  </tbody>\n",
       "</table>\n",
       "</div>"
      ],
      "text/plain": [
       "                                          title  \\\n",
       "id                                                \n",
       "94799    Demon Days: Mariko (2021) #1 (Variant)   \n",
       "93339            The Mighty Valkyries (2021) #3   \n",
       "94884  The Mighty Valkyries (2021) #3 (Variant)   \n",
       "93350                          X-Corp (2021) #2   \n",
       "94896                X-Corp (2021) #2 (Variant)   \n",
       "\n",
       "                                             description  \n",
       "id                                                        \n",
       "94799  IN THE SHADOW OF KIRISAKI MOUNTAIN?A SECRET HI...  \n",
       "93339  CHILDREN OF THE AFTERLIFE! While Kraven the Hu...  \n",
       "94884  CHILDREN OF THE AFTERLIFE! While Kraven the Hu...  \n",
       "93350  A SHARK IN THE WATER! After X-CORP’s shocking ...  \n",
       "94896  A SHARK IN THE WATER! After X-CORP?s shocking ...  "
      ]
     },
     "execution_count": 96,
     "metadata": {},
     "output_type": "execute_result"
    }
   ],
   "source": [
    "df_comics = df_comics.drop_duplicates()\n",
    "print(f'Number of duplicate examples: {df_comics.duplicated().sum()}')\n",
    "df_comics.head()"
   ]
  },
  {
   "cell_type": "markdown",
   "id": "0af03d23-7044-48eb-ae24-56605ee1d673",
   "metadata": {},
   "source": [
    "Performing the same validation for the `df_characters` dataset (Fazendo a mesma validação para o dataset `df_characters`).\n",
    "\n",
    "Transforming the feature `id` into the index (Transformando a feature `id` no índice)."
   ]
  },
  {
   "cell_type": "code",
   "execution_count": 101,
   "id": "dd7e1ab1-ed5d-45b8-9b3f-54b98119e560",
   "metadata": {},
   "outputs": [
    {
     "data": {
      "text/html": [
       "<div>\n",
       "<style scoped>\n",
       "    .dataframe tbody tr th:only-of-type {\n",
       "        vertical-align: middle;\n",
       "    }\n",
       "\n",
       "    .dataframe tbody tr th {\n",
       "        vertical-align: top;\n",
       "    }\n",
       "\n",
       "    .dataframe thead th {\n",
       "        text-align: right;\n",
       "    }\n",
       "</style>\n",
       "<table border=\"1\" class=\"dataframe\">\n",
       "  <thead>\n",
       "    <tr style=\"text-align: right;\">\n",
       "      <th></th>\n",
       "      <th>name</th>\n",
       "      <th>description</th>\n",
       "    </tr>\n",
       "    <tr>\n",
       "      <th>id</th>\n",
       "      <th></th>\n",
       "      <th></th>\n",
       "    </tr>\n",
       "  </thead>\n",
       "  <tbody>\n",
       "    <tr>\n",
       "      <th>1017100</th>\n",
       "      <td>A-Bomb (HAS)</td>\n",
       "      <td>Rick Jones has been Hulk's best bud since day ...</td>\n",
       "    </tr>\n",
       "    <tr>\n",
       "      <th>1009144</th>\n",
       "      <td>A.I.M.</td>\n",
       "      <td>AIM is a terrorist organization bent on destro...</td>\n",
       "    </tr>\n",
       "    <tr>\n",
       "      <th>1009146</th>\n",
       "      <td>Abomination (Emil Blonsky)</td>\n",
       "      <td>Formerly known as Emil Blonsky, a spy of Sovie...</td>\n",
       "    </tr>\n",
       "    <tr>\n",
       "      <th>1010354</th>\n",
       "      <td>Adam Warlock</td>\n",
       "      <td>Adam Warlock is an artificially created human ...</td>\n",
       "    </tr>\n",
       "    <tr>\n",
       "      <th>1011031</th>\n",
       "      <td>Agent X (Nijo)</td>\n",
       "      <td>Originally a partner of the mind-altering assa...</td>\n",
       "    </tr>\n",
       "  </tbody>\n",
       "</table>\n",
       "</div>"
      ],
      "text/plain": [
       "                               name  \\\n",
       "id                                    \n",
       "1017100                A-Bomb (HAS)   \n",
       "1009144                      A.I.M.   \n",
       "1009146  Abomination (Emil Blonsky)   \n",
       "1010354                Adam Warlock   \n",
       "1011031              Agent X (Nijo)   \n",
       "\n",
       "                                               description  \n",
       "id                                                          \n",
       "1017100  Rick Jones has been Hulk's best bud since day ...  \n",
       "1009144  AIM is a terrorist organization bent on destro...  \n",
       "1009146  Formerly known as Emil Blonsky, a spy of Sovie...  \n",
       "1010354  Adam Warlock is an artificially created human ...  \n",
       "1011031  Originally a partner of the mind-altering assa...  "
      ]
     },
     "execution_count": 101,
     "metadata": {},
     "output_type": "execute_result"
    }
   ],
   "source": [
    "df_characters = df_characters.set_index('id')\n",
    "df_characters.head()"
   ]
  },
  {
   "cell_type": "markdown",
   "id": "50d6ccf0-95fd-4520-8bf4-9a422f9d91cc",
   "metadata": {},
   "source": [
    "Counting duplicate examples (Contando os exemplos duplicados)."
   ]
  },
  {
   "cell_type": "code",
   "execution_count": 104,
   "id": "f201e344-faf3-49fd-b803-dc1d26f6ce85",
   "metadata": {},
   "outputs": [
    {
     "name": "stdout",
     "output_type": "stream",
     "text": [
      "Number of duplicate examples: 0\n"
     ]
    }
   ],
   "source": [
    "print(f'Number of duplicate examples: {df_characters.duplicated().sum()}')"
   ]
  },
  {
   "cell_type": "markdown",
   "id": "f157a575-fa2b-4702-9728-c5ac865e4f45",
   "metadata": {},
   "source": [
    "The `df_characters` dataset has no duplicate examples. So we won't do anything (O dataset `df_characters` não tem exemplos duplicados. Portanto, não faremos nada)."
   ]
  },
  {
   "cell_type": "markdown",
   "id": "909667bb-3522-40a4-af89-3aa06ca5f8c9",
   "metadata": {},
   "source": [
    "Resetting the dataset index to load it to disk and plotting the first 5 examples (Resetando o índice do dataset para carregá-lo no disco e plotando os primeiros 5 exemplos)."
   ]
  },
  {
   "cell_type": "code",
   "execution_count": 108,
   "id": "592778f1-0417-4750-aac0-f30b013501e1",
   "metadata": {},
   "outputs": [
    {
     "data": {
      "text/html": [
       "<div>\n",
       "<style scoped>\n",
       "    .dataframe tbody tr th:only-of-type {\n",
       "        vertical-align: middle;\n",
       "    }\n",
       "\n",
       "    .dataframe tbody tr th {\n",
       "        vertical-align: top;\n",
       "    }\n",
       "\n",
       "    .dataframe thead th {\n",
       "        text-align: right;\n",
       "    }\n",
       "</style>\n",
       "<table border=\"1\" class=\"dataframe\">\n",
       "  <thead>\n",
       "    <tr style=\"text-align: right;\">\n",
       "      <th></th>\n",
       "      <th>id</th>\n",
       "      <th>title</th>\n",
       "      <th>description</th>\n",
       "    </tr>\n",
       "  </thead>\n",
       "  <tbody>\n",
       "    <tr>\n",
       "      <th>0</th>\n",
       "      <td>94799</td>\n",
       "      <td>Demon Days: Mariko (2021) #1 (Variant)</td>\n",
       "      <td>IN THE SHADOW OF KIRISAKI MOUNTAIN?A SECRET HI...</td>\n",
       "    </tr>\n",
       "    <tr>\n",
       "      <th>1</th>\n",
       "      <td>93339</td>\n",
       "      <td>The Mighty Valkyries (2021) #3</td>\n",
       "      <td>CHILDREN OF THE AFTERLIFE! While Kraven the Hu...</td>\n",
       "    </tr>\n",
       "    <tr>\n",
       "      <th>2</th>\n",
       "      <td>94884</td>\n",
       "      <td>The Mighty Valkyries (2021) #3 (Variant)</td>\n",
       "      <td>CHILDREN OF THE AFTERLIFE! While Kraven the Hu...</td>\n",
       "    </tr>\n",
       "    <tr>\n",
       "      <th>3</th>\n",
       "      <td>93350</td>\n",
       "      <td>X-Corp (2021) #2</td>\n",
       "      <td>A SHARK IN THE WATER! After X-CORP’s shocking ...</td>\n",
       "    </tr>\n",
       "    <tr>\n",
       "      <th>4</th>\n",
       "      <td>94896</td>\n",
       "      <td>X-Corp (2021) #2 (Variant)</td>\n",
       "      <td>A SHARK IN THE WATER! After X-CORP?s shocking ...</td>\n",
       "    </tr>\n",
       "  </tbody>\n",
       "</table>\n",
       "</div>"
      ],
      "text/plain": [
       "      id                                     title  \\\n",
       "0  94799    Demon Days: Mariko (2021) #1 (Variant)   \n",
       "1  93339            The Mighty Valkyries (2021) #3   \n",
       "2  94884  The Mighty Valkyries (2021) #3 (Variant)   \n",
       "3  93350                          X-Corp (2021) #2   \n",
       "4  94896                X-Corp (2021) #2 (Variant)   \n",
       "\n",
       "                                         description  \n",
       "0  IN THE SHADOW OF KIRISAKI MOUNTAIN?A SECRET HI...  \n",
       "1  CHILDREN OF THE AFTERLIFE! While Kraven the Hu...  \n",
       "2  CHILDREN OF THE AFTERLIFE! While Kraven the Hu...  \n",
       "3  A SHARK IN THE WATER! After X-CORP’s shocking ...  \n",
       "4  A SHARK IN THE WATER! After X-CORP?s shocking ...  "
      ]
     },
     "execution_count": 108,
     "metadata": {},
     "output_type": "execute_result"
    }
   ],
   "source": [
    "df_comics = df_comics.reset_index()\n",
    "df_characters = df_characters.reset_index()\n",
    "df_comics.head()"
   ]
  },
  {
   "cell_type": "markdown",
   "id": "0a896142-9b5a-492e-bcc4-d895f761280a",
   "metadata": {},
   "source": [
    "<a name=\"4.3\"></a>\n",
    "### Data Load (Carregamento dos Dados)\n",
    "Loading each dataset into the `../data/raw/` directory (Carregando cada dataset no diretório `../data/raw/`)."
   ]
  },
  {
   "cell_type": "code",
   "execution_count": 112,
   "id": "5a577e91-9aa8-432b-b72e-8c968fd3ead8",
   "metadata": {},
   "outputs": [],
   "source": [
    "df_comics.to_csv('../data/raw/comics_corpus.csv', index=False)\n",
    "df_characters.to_csv('../data/raw/char_corpus.csv', index=False)"
   ]
  }
 ],
 "metadata": {
  "kernelspec": {
   "display_name": "Python 3 (ipykernel)",
   "language": "python",
   "name": "python3"
  },
  "language_info": {
   "codemirror_mode": {
    "name": "ipython",
    "version": 3
   },
   "file_extension": ".py",
   "mimetype": "text/x-python",
   "name": "python",
   "nbconvert_exporter": "python",
   "pygments_lexer": "ipython3",
   "version": "3.11.5"
  }
 },
 "nbformat": 4,
 "nbformat_minor": 5
}
