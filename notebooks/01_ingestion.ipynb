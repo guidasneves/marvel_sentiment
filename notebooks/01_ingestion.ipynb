{
 "cells": [
  {
   "cell_type": "markdown",
   "id": "795660cf-592c-4e3e-8e3e-9ba131fea9a1",
   "metadata": {},
   "source": [
    "# Ingestion Step (Etapa de Ingestão)"
   ]
  },
  {
   "cell_type": "markdown",
   "id": "bf7e9705-821e-49ad-a64b-724fd5a8b4c4",
   "metadata": {},
   "source": [
    "## Table of Contents\n",
    "* [Packages](#1)\n",
    "* [Ingestion Utility Functions](#2)\n",
    "* [Environment Variables](#3)\n",
    "* [Ingestion](#4)"
   ]
  },
  {
   "cell_type": "markdown",
   "id": "b91e510b-cc33-4b0a-8dba-b0ecd264ab09",
   "metadata": {},
   "source": [
    "<a name=\"1\"></a>\n",
    "## Packages (Pacotes)\n",
    "**[EN-US]**\n",
    "\n",
    "Packages used in the system.\n",
    "* [os](https://docs.python.org/3/library/os.html): built-in module, provides a portable way of using operating system dependent functionality;\n",
    "* [requests](https://pypi.org/project/requests/): is a simple HTTP library, for making HTTP requests;\n",
    "* [haslib](https://docs.python.org/3/library/hashlib.html): implements a common interface to many different secure hash and message digest algorithms;\n",
    "* [time](https://docs.python.org/3/library/time.html): provides various time-related functions;\n",
    "* [dotenv](https://pypi.org/project/python-dotenv/): reads key-value pairs from a .env file and can set them as environment variables;\n",
    "* [pandas](https://pandas.pydata.org/): is the main package for data manipulation;\n",
    "\n",
    "**[PT-BR]**\n",
    "\n",
    "Pacotes utilizados no sistema.\n",
    "* [os](https://docs.python.org/3/library/os.html): módulo integrado, fornece uma maneira portátil de usar funcionalidades dependentes do sistema operacional;\n",
    "* [requests](https://pypi.org/project/requests/): é uma biblioteca HTTP simples, para fazer solicitações HTTP;\n",
    "* [haslib](https://docs.python.org/3/library/hashlib.html): implementa uma interface comum para muitos algoritmos diferentes de hash seguro e resumo de mensagens;\n",
    "* [time](https://docs.python.org/3/library/time.html): fornece várias funções relacionadas ao tempo;\n",
    "* [dotenv](https://pypi.org/project/python-dotenv/): lê pares de chave-valor de um arquivo .env e pode defini-los como variáveis de ambiente;\n",
    "* [pandas](https://pandas.pydata.org/): é o principal pacote para manipulação de dados;"
   ]
  },
  {
   "cell_type": "code",
   "execution_count": 67,
   "id": "1e0868b2-3bc4-4bd1-bd19-a2184f39df1b",
   "metadata": {},
   "outputs": [],
   "source": [
    "import os\n",
    "from requests import get\n",
    "from hashlib import md5\n",
    "from time import time\n",
    "from dotenv import load_dotenv\n",
    "load_dotenv()\n",
    "\n",
    "import pandas as pd"
   ]
  },
  {
   "cell_type": "markdown",
   "id": "75b0d96a-2cee-4074-a8e1-9e7e3c45a9b9",
   "metadata": {},
   "source": [
    "<a name=\"2\"></a>\n",
    "## Ingestion Utility Functions (Funçõs Utilitárias de Ingestão)"
   ]
  },
  {
   "cell_type": "code",
   "execution_count": 74,
   "id": "ccd54c6f-8538-465a-86ce-8ce11b4ef8e2",
   "metadata": {},
   "outputs": [],
   "source": [
    "class MarvelIngestion():\n",
    "    \"\"\"\n",
    "    \n",
    "    \"\"\"\n",
    "    def __init__(\n",
    "        self,\n",
    "        public_key,\n",
    "        private_key,\n",
    "        url='http://gateway.marvel.com/v1/public/',\n",
    "        limit=100,\n",
    "    ):\n",
    "        \"\"\"\n",
    "        \n",
    "        \"\"\"\n",
    "        super(MarvelIngestion, self).__init__()\n",
    "\n",
    "        self.public_key = public_key\n",
    "        self.private_key = private_key\n",
    "        \n",
    "        self.url = url\n",
    "        self.limit = limit\n",
    "        self.headers = {\n",
    "            'Accept-Encoding': '*',\n",
    "            'Accpet': '*/*',\n",
    "            'Connection': 'keep-alive'\n",
    "        }\n",
    "\n",
    "    def get_params(self, offset, format_=None):\n",
    "        \"\"\"\n",
    "        \n",
    "        \"\"\"\n",
    "        ts = str(time())\n",
    "        hash_ = md5(\n",
    "            (\n",
    "                ts + self.private_key + self.public_key\n",
    "            ).encode('utf-8')\n",
    "        ).hexdigest()\n",
    "        params = {\n",
    "                'ts': ts,\n",
    "                'apikey': self.public_key,\n",
    "                'hash': hash_,\n",
    "                'limit': self.limit,\n",
    "                'offset': offset,\n",
    "                'format': format_\n",
    "            }\n",
    "        \n",
    "        return params\n",
    "    \n",
    "    def __call__(self, endpoint, offset=0, format_=None, retries=5):\n",
    "        \"\"\"\n",
    "        \n",
    "        \"\"\"        \n",
    "        key = 'name' if endpoint == 'characters' else 'title'\n",
    "        params = self.get_params(offset=offset, format_=format_)\n",
    "        examples = []\n",
    "        \n",
    "        response = get(self.url + endpoint, params=params, headers=self.headers).json()\n",
    "        total = response['data']['total']\n",
    "                \n",
    "        for page in range(offset, offset + total, self.limit):\n",
    "            if retries > 0:\n",
    "                try:\n",
    "                    results = response['data']['results']\n",
    "                    \n",
    "                    for i in range(len(results)):\n",
    "                        description = results[i]['description']\n",
    "                        example = [\n",
    "                                results[i]['id'],\n",
    "                                results[i][key],\n",
    "                                description\n",
    "                            ]\n",
    "                        if example not in examples and description and len(description) > 4:\n",
    "                            examples.append(example)\n",
    "                            \n",
    "                    params = self.get_params(offset=page + self.limit, format_=format_)\n",
    "                    response = get(self.url + endpoint, params=params, headers=self.headers).json()\n",
    "                \n",
    "                except:\n",
    "                    retries -= 1\n",
    "\n",
    "        features = ['id', key, 'description']\n",
    "        df = pd.DataFrame(examples, columns=features)\n",
    "\n",
    "        return df"
   ]
  },
  {
   "cell_type": "markdown",
   "id": "c76f6d54-ee3b-4eec-8114-b1d943ee4183",
   "metadata": {},
   "source": [
    "<a name=\"3\"></a>\n",
    "## Environment Variables (Variáveis de Ambiente)"
   ]
  },
  {
   "cell_type": "code",
   "execution_count": 77,
   "id": "f333179a-a5c7-4911-beb5-6650554ede46",
   "metadata": {},
   "outputs": [],
   "source": [
    "PUBLIC_KEY = str(os.environ['MARVEL_PUBLIC_KEY'])\n",
    "PRIVATE_KEY = str(os.environ['MARVEL_PRIVATE_KEY'])"
   ]
  },
  {
   "cell_type": "markdown",
   "id": "06c58f20-8fb9-4c27-852e-91fef8626f3c",
   "metadata": {},
   "source": [
    "<a name=\"4\"></a>\n",
    "## Ingestion (Ingestão)"
   ]
  },
  {
   "cell_type": "code",
   "execution_count": 79,
   "id": "684bee22-0c2a-4701-8334-bef63ab92166",
   "metadata": {
    "scrolled": true
   },
   "outputs": [],
   "source": [
    "ingestion = MarvelIngestion(PUBLIC_KEY, PRIVATE_KEY)"
   ]
  },
  {
   "cell_type": "code",
   "execution_count": 71,
   "id": "bb04c25f-2675-4943-b81b-565afbba4d09",
   "metadata": {},
   "outputs": [
    {
     "name": "stdout",
     "output_type": "stream",
     "text": [
      "Comics dataset dimension: (18802, 3)\n"
     ]
    },
    {
     "data": {
      "text/html": [
       "<div>\n",
       "<style scoped>\n",
       "    .dataframe tbody tr th:only-of-type {\n",
       "        vertical-align: middle;\n",
       "    }\n",
       "\n",
       "    .dataframe tbody tr th {\n",
       "        vertical-align: top;\n",
       "    }\n",
       "\n",
       "    .dataframe thead th {\n",
       "        text-align: right;\n",
       "    }\n",
       "</style>\n",
       "<table border=\"1\" class=\"dataframe\">\n",
       "  <thead>\n",
       "    <tr style=\"text-align: right;\">\n",
       "      <th></th>\n",
       "      <th>id</th>\n",
       "      <th>title</th>\n",
       "      <th>description</th>\n",
       "    </tr>\n",
       "  </thead>\n",
       "  <tbody>\n",
       "    <tr>\n",
       "      <th>0</th>\n",
       "      <td>94799</td>\n",
       "      <td>Demon Days: Mariko (2021) #1 (Variant)</td>\n",
       "      <td>IN THE SHADOW OF KIRISAKI MOUNTAIN?A SECRET HI...</td>\n",
       "    </tr>\n",
       "    <tr>\n",
       "      <th>1</th>\n",
       "      <td>94801</td>\n",
       "      <td>Demon Days: Mariko (2021) #1 (Variant)</td>\n",
       "      <td>IN THE SHADOW OF KIRISAKI MOUNTAIN?A SECRET HI...</td>\n",
       "    </tr>\n",
       "    <tr>\n",
       "      <th>2</th>\n",
       "      <td>94802</td>\n",
       "      <td>Demon Days: Mariko (2021) #1 (Variant)</td>\n",
       "      <td>IN THE SHADOW OF KIRISAKI MOUNTAIN?A SECRET HI...</td>\n",
       "    </tr>\n",
       "    <tr>\n",
       "      <th>3</th>\n",
       "      <td>94803</td>\n",
       "      <td>Demon Days: Mariko (2021) #1 (Variant)</td>\n",
       "      <td>IN THE SHADOW OF KIRISAKI MOUNTAIN?A SECRET HI...</td>\n",
       "    </tr>\n",
       "    <tr>\n",
       "      <th>4</th>\n",
       "      <td>94804</td>\n",
       "      <td>Demon Days: Mariko (2021) #1 (Variant)</td>\n",
       "      <td>IN THE SHADOW OF KIRISAKI MOUNTAIN?A SECRET HI...</td>\n",
       "    </tr>\n",
       "  </tbody>\n",
       "</table>\n",
       "</div>"
      ],
      "text/plain": [
       "      id                                   title  \\\n",
       "0  94799  Demon Days: Mariko (2021) #1 (Variant)   \n",
       "1  94801  Demon Days: Mariko (2021) #1 (Variant)   \n",
       "2  94802  Demon Days: Mariko (2021) #1 (Variant)   \n",
       "3  94803  Demon Days: Mariko (2021) #1 (Variant)   \n",
       "4  94804  Demon Days: Mariko (2021) #1 (Variant)   \n",
       "\n",
       "                                         description  \n",
       "0  IN THE SHADOW OF KIRISAKI MOUNTAIN?A SECRET HI...  \n",
       "1  IN THE SHADOW OF KIRISAKI MOUNTAIN?A SECRET HI...  \n",
       "2  IN THE SHADOW OF KIRISAKI MOUNTAIN?A SECRET HI...  \n",
       "3  IN THE SHADOW OF KIRISAKI MOUNTAIN?A SECRET HI...  \n",
       "4  IN THE SHADOW OF KIRISAKI MOUNTAIN?A SECRET HI...  "
      ]
     },
     "execution_count": 71,
     "metadata": {},
     "output_type": "execute_result"
    }
   ],
   "source": [
    "df_comics = ingestion(endpoint='comics', format_='comic')\n",
    "print(f'Comics dataset dimension: {df_comics.shape}')\n",
    "df_comics.head()"
   ]
  },
  {
   "cell_type": "code",
   "execution_count": 81,
   "id": "6c7a3426-39e4-4904-8a66-ff5d22bcd6d4",
   "metadata": {},
   "outputs": [
    {
     "name": "stdout",
     "output_type": "stream",
     "text": [
      "Characters dataset dimension: (305, 3)\n"
     ]
    },
    {
     "data": {
      "text/html": [
       "<div>\n",
       "<style scoped>\n",
       "    .dataframe tbody tr th:only-of-type {\n",
       "        vertical-align: middle;\n",
       "    }\n",
       "\n",
       "    .dataframe tbody tr th {\n",
       "        vertical-align: top;\n",
       "    }\n",
       "\n",
       "    .dataframe thead th {\n",
       "        text-align: right;\n",
       "    }\n",
       "</style>\n",
       "<table border=\"1\" class=\"dataframe\">\n",
       "  <thead>\n",
       "    <tr style=\"text-align: right;\">\n",
       "      <th></th>\n",
       "      <th>id</th>\n",
       "      <th>name</th>\n",
       "      <th>description</th>\n",
       "    </tr>\n",
       "  </thead>\n",
       "  <tbody>\n",
       "    <tr>\n",
       "      <th>0</th>\n",
       "      <td>1017100</td>\n",
       "      <td>A-Bomb (HAS)</td>\n",
       "      <td>Rick Jones has been Hulk's best bud since day ...</td>\n",
       "    </tr>\n",
       "    <tr>\n",
       "      <th>1</th>\n",
       "      <td>1009144</td>\n",
       "      <td>A.I.M.</td>\n",
       "      <td>AIM is a terrorist organization bent on destro...</td>\n",
       "    </tr>\n",
       "    <tr>\n",
       "      <th>2</th>\n",
       "      <td>1009146</td>\n",
       "      <td>Abomination (Emil Blonsky)</td>\n",
       "      <td>Formerly known as Emil Blonsky, a spy of Sovie...</td>\n",
       "    </tr>\n",
       "    <tr>\n",
       "      <th>3</th>\n",
       "      <td>1010354</td>\n",
       "      <td>Adam Warlock</td>\n",
       "      <td>Adam Warlock is an artificially created human ...</td>\n",
       "    </tr>\n",
       "    <tr>\n",
       "      <th>4</th>\n",
       "      <td>1011031</td>\n",
       "      <td>Agent X (Nijo)</td>\n",
       "      <td>Originally a partner of the mind-altering assa...</td>\n",
       "    </tr>\n",
       "  </tbody>\n",
       "</table>\n",
       "</div>"
      ],
      "text/plain": [
       "        id                        name  \\\n",
       "0  1017100                A-Bomb (HAS)   \n",
       "1  1009144                      A.I.M.   \n",
       "2  1009146  Abomination (Emil Blonsky)   \n",
       "3  1010354                Adam Warlock   \n",
       "4  1011031              Agent X (Nijo)   \n",
       "\n",
       "                                         description  \n",
       "0  Rick Jones has been Hulk's best bud since day ...  \n",
       "1  AIM is a terrorist organization bent on destro...  \n",
       "2  Formerly known as Emil Blonsky, a spy of Sovie...  \n",
       "3  Adam Warlock is an artificially created human ...  \n",
       "4  Originally a partner of the mind-altering assa...  "
      ]
     },
     "execution_count": 81,
     "metadata": {},
     "output_type": "execute_result"
    }
   ],
   "source": [
    "df_characters = ingestion(endpoint='characters', offset=0)\n",
    "print(f'Characters dataset dimension: {df_characters.shape}')\n",
    "df_characters.head()"
   ]
  },
  {
   "cell_type": "code",
   "execution_count": 82,
   "id": "5a577e91-9aa8-432b-b72e-8c968fd3ead8",
   "metadata": {},
   "outputs": [],
   "source": [
    "df_comics.to_csv('../data/raw/comics_corpus.csv', index=False)\n",
    "df_characters.to_csv('../data/raw/char_corpus.csv', index=False)"
   ]
  }
 ],
 "metadata": {
  "kernelspec": {
   "display_name": "Python 3 (ipykernel)",
   "language": "python",
   "name": "python3"
  },
  "language_info": {
   "codemirror_mode": {
    "name": "ipython",
    "version": 3
   },
   "file_extension": ".py",
   "mimetype": "text/x-python",
   "name": "python",
   "nbconvert_exporter": "python",
   "pygments_lexer": "ipython3",
   "version": "3.11.5"
  }
 },
 "nbformat": 4,
 "nbformat_minor": 5
}
